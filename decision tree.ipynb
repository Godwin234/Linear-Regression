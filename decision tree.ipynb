{
 "cells": [
  {
   "cell_type": "code",
   "execution_count": 1,
   "metadata": {},
   "outputs": [],
   "source": [
    "# implementing decision tree from scratch\n",
    "import numpy as np\n",
    "from collections import Counter"
   ]
  },
  {
   "cell_type": "code",
   "execution_count": 5,
   "metadata": {},
   "outputs": [],
   "source": [
    "class decision_tree :\n",
    "    def fit(self , X, Y):\n",
    "        self . classes = np. unique (Y)\n",
    "        self . tree = Tree (). split (X, Y)\n",
    "        return self\n",
    "    def predict (self , X):\n",
    "        return self . tree (X). astype ( self . classes . dtype )\n",
    "    def score (self , X, Y):\n",
    "        Yhat = self . predict (X)\n",
    "        return np. mean (Y== Yhat )"
   ]
  },
  {
   "cell_type": "code",
   "execution_count": 6,
   "metadata": {},
   "outputs": [],
   "source": [
    "class Tree :\n",
    "    def __init__ ( self ):\n",
    "        self . is_leaf = False\n",
    "    def __call__ (self , X):\n",
    "        if self . is_leaf :\n",
    "            return np. full (len (X), self . value )\n",
    "        else :\n",
    "            result = np. full (len(X), np.nan)\n",
    "            split = self . rule (X)\n",
    "            result [ split ] = self . left (X[ split ])\n",
    "            result [~ split ] = self . right (X[~ split ])\n",
    "            return result\n",
    "    def split (self , X, Y):\n",
    "        if self . _stop_criterion (X, Y):\n",
    "            self . is_leaf = True\n",
    "            classes , counts = np. unique (Y, return_counts = True )\n",
    "            majority_class = classes [np. argmax ( counts )]\n",
    "            self . value = majority_class\n",
    "            return self\n",
    "        N, M = X. shape\n",
    "        scores = np. full ((N, M), np.nan )\n",
    "        for k in range (N): # iterate over rows\n",
    "            for l in range (M):\n",
    "                split = X[:, l] < X[k, l]\n",
    "                scores [k, l] = self . _split_criterion (split , X, Y)\n",
    "        # best split\n",
    "        k,l = np. unravel_index (np. argmax (scores , axis = None ), scores . shape )\n",
    "        self . rule = self . _make_rule (l, X[k,l])\n",
    "        split = self . rule (X)\n",
    "        self . left = Tree (). split (X[ split ], Y[ split ])\n",
    "        self . right = Tree (). split (X[~ split ], Y[~ split ])\n",
    "        self . is_leaf = False\n",
    "        return self\n",
    "    @staticmethod\n",
    "    def _split_criterion (split , X, Y):\n",
    "        if sum( split ) in {0, len(Y)}:\n",
    "            return 0 # all datapoints in one leaf ...\n",
    "        classes = np. unique (Y)\n",
    "        C = np. full ((2 , len( classes )), np.nan) # contingency table\n",
    "        for k, cls in enumerate ( classes ):\n",
    "            C[0, k] = np.sum(Y[ split ]== cls)\n",
    "            C[1, k] = np.sum(Y[~ split ]== cls)\n",
    "        Cj_ = np.sum(C, axis =1)\n",
    "        C_k = np.sum(C, axis =0)\n",
    "        C__ = np.sum(C)\n",
    "        a = -np. sum (( C_k/C__) **2)\n",
    "        b = +np. sum (( Cj_/C__)*np.sum( (C/Cj_ [:, None ]) **2 , axis =1) )\n",
    "        return a+b\n",
    "    @staticmethod\n",
    "    def _stop_criterion (X, Y):\n",
    "        if len(Y) <= 1 or len(np. unique (Y)) <= 1:\n",
    "            return True\n",
    "        return False\n",
    "    @staticmethod\n",
    "    def _make_rule (idx , val):\n",
    "        return lambda X: X[:, idx] < val\n"
   ]
  },
  {
   "cell_type": "code",
   "execution_count": 7,
   "metadata": {},
   "outputs": [],
   "source": [
    "import sklearn\n",
    "\n",
    "bcansk = load_breast_cancer()\n",
    "iris_sk = load_iris()\n",
    "data_cancer = bcansk.data\n",
    "target_cancer = bcansk.target\n",
    "iris_data = iris_sk.data\n",
    "iris_target = iris_sk.target\n",
    "from sklearn.model_selection import train_test_split\n",
    "def split(Xdata,Ydata):\n",
    "    x_train, x_test, y_train, y_test = train_test_split(Xdata,Ydata, test_size=0.3,random_state=2019)\n",
    "    return x_train,y_train,x_test,y_test\n",
    "\n",
    "x_train11,y_train11,x_test11,y_test11 = split(iris_data,iris_target)\n",
    "x_train12,y_train12,x_test12,y_test12 = split(data_cancer, target_cancer)"
   ]
  },
  {
   "cell_type": "markdown",
   "metadata": {},
   "source": [
    "# on iris dataset"
   ]
  },
  {
   "cell_type": "code",
   "execution_count": 11,
   "metadata": {},
   "outputs": [
    {
     "data": {
      "text/plain": [
       "0.9555555555555556"
      ]
     },
     "execution_count": 11,
     "metadata": {},
     "output_type": "execute_result"
    }
   ],
   "source": [
    "model = decision_tree()\n",
    "model.fit(x_train11,y_train11)\n",
    "model.score(x_test11,y_test11)"
   ]
  },
  {
   "cell_type": "markdown",
   "metadata": {},
   "source": [
    "# on breast cancer dataset"
   ]
  },
  {
   "cell_type": "code",
   "execution_count": 10,
   "metadata": {},
   "outputs": [
    {
     "data": {
      "text/plain": [
       "0.8830409356725146"
      ]
     },
     "execution_count": 10,
     "metadata": {},
     "output_type": "execute_result"
    }
   ],
   "source": [
    "model = decision_tree()\n",
    "model.fit(x_train12,y_train12)\n",
    "model.score(x_test12,y_test12)"
   ]
  },
  {
   "cell_type": "code",
   "execution_count": null,
   "metadata": {},
   "outputs": [],
   "source": [
    "# Credits to Randolf Scholz"
   ]
  }
 ],
 "metadata": {
  "kernelspec": {
   "display_name": "Python 3",
   "language": "python",
   "name": "python3"
  },
  "language_info": {
   "codemirror_mode": {
    "name": "ipython",
    "version": 3
   },
   "file_extension": ".py",
   "mimetype": "text/x-python",
   "name": "python",
   "nbconvert_exporter": "python",
   "pygments_lexer": "ipython3",
   "version": "3.6.10"
  }
 },
 "nbformat": 4,
 "nbformat_minor": 2
}
