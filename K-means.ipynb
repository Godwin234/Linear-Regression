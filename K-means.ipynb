{
 "cells": [
  {
   "cell_type": "markdown",
   "metadata": {},
   "source": [
    "# K-means with ready made dataset (iris dataset)"
   ]
  },
  {
   "cell_type": "code",
   "execution_count": 0,
   "metadata": {
    "colab": {},
    "colab_type": "code",
    "id": "eu0ZnSZOMCZJ"
   },
   "outputs": [],
   "source": [
    "!apt-get install openjdk-8-jdk-headless -qq > /dev/null\n",
    "!wget -q https://www-us.apache.org/dist/spark/spark-3.0.0-preview2/spark-3.0.0-preview2-bin-hadoop2.7.tgz\n",
    "!tar xf spark-3.0.0-preview2-bin-hadoop2.7.tgz\n",
    "!pip install -q findspark"
   ]
  },
  {
   "cell_type": "code",
   "execution_count": 0,
   "metadata": {
    "colab": {},
    "colab_type": "code",
    "id": "M5NoqtYQMEHY"
   },
   "outputs": [],
   "source": [
    "import os\n",
    "os.environ[\"JAVA_HOME\"] = \"/usr/lib/jvm/java-8-openjdk-amd64\"\n",
    "os.environ[\"SPARK_HOME\"] = \"/content/spark-3.0.0-preview2-bin-hadoop2.7\""
   ]
  },
  {
   "cell_type": "code",
   "execution_count": 0,
   "metadata": {
    "colab": {},
    "colab_type": "code",
    "id": "LpNIjfaVMENC"
   },
   "outputs": [],
   "source": [
    "import findspark\n",
    "findspark.init()"
   ]
  },
  {
   "cell_type": "code",
   "execution_count": 0,
   "metadata": {
    "colab": {},
    "colab_type": "code",
    "id": "LHuDimbAMEU0"
   },
   "outputs": [],
   "source": [
    "import numpy as np\n",
    "import matplotlib.pyplot as plt\n",
    "import pandas as pd\n",
    "import random\n"
   ]
  },
  {
   "cell_type": "code",
   "execution_count": 0,
   "metadata": {
    "colab": {},
    "colab_type": "code",
    "id": "DYsjjF0-GZ8L"
   },
   "outputs": [],
   "source": [
    "!pip install -U -q PyDrive\n",
    "from pydrive.auth import GoogleAuth\n",
    "from pydrive.drive import GoogleDrive\n",
    "from google.colab import auth\n",
    "from oauth2client.client import GoogleCredentials\n",
    "\n",
    "# Authenticate and create the PyDrive client.\n",
    "# This only needs to be done once per notebook.\n",
    "auth.authenticate_user()\n",
    "gauth = GoogleAuth()\n",
    "gauth.credentials = GoogleCredentials.get_application_default()\n",
    "drive = GoogleDrive(gauth)\n",
    "\n",
    "# Download a file based on its file ID.\n",
    "#\n",
    "# A file ID looks like: laggVyWshwcyP6kEI-y_W3P8D26sz\n",
    "file_id = '1Ail63WTPdCltm0io6p6RNaMeKPVWWdnQ'\n",
    "file_id2 = '1Kiq16AfVxPh7on8q3EL7P2JQvMgFraaX'\n",
    "file_id3 = '1PU-GraBLU2KCatlSbKo_3LlSxxKCXbxh'\n",
    "downloaded = drive.CreateFile({'id': file_id})\n",
    "downloaded2 = drive.CreateFile({'id': file_id2})\n",
    "downloaded3 = drive.CreateFile({'id': file_id3})\n",
    "downloaded.GetContentFile('iris.data')\n",
    "downloaded2.GetContentFile('train_data.csv')\n",
    "downloaded3.GetContentFile('test_data.csv')"
   ]
  },
  {
   "cell_type": "code",
   "execution_count": 0,
   "metadata": {
    "colab": {},
    "colab_type": "code",
    "id": "4Wqy9_ZVGiRh"
   },
   "outputs": [],
   "source": [
    "import numpy as np\n",
    "import time\n",
    "import matplotlib.pyplot as plt\n",
    "import pandas as pd\n",
    "import re\n",
    "from collections import defaultdict"
   ]
  },
  {
   "cell_type": "code",
   "execution_count": 0,
   "metadata": {
    "colab": {},
    "colab_type": "code",
    "id": "zqbnXh0g2I2d"
   },
   "outputs": [],
   "source": [
    "train_20_data = pd.read_csv('train_data.csv',sep='\\t')\n",
    "test_20_data = pd.read_csv('test_data.csv',sep='\\t')\n"
   ]
  },
  {
   "cell_type": "code",
   "execution_count": 0,
   "metadata": {
    "colab": {
     "base_uri": "https://localhost:8080/",
     "height": 419
    },
    "colab_type": "code",
    "executionInfo": {
     "elapsed": 844,
     "status": "ok",
     "timestamp": 1580502306264,
     "user": {
      "displayName": "EZEANI GODWIN",
      "photoUrl": "",
      "userId": "04749033323982820171"
     },
     "user_tz": -60
    },
    "id": "Ph75OZOn3Utd",
    "outputId": "c2e22559-339e-435e-b76f-1a8b47e9aaae"
   },
   "outputs": [
    {
     "data": {
      "text/html": [
       "<div>\n",
       "<style scoped>\n",
       "    .dataframe tbody tr th:only-of-type {\n",
       "        vertical-align: middle;\n",
       "    }\n",
       "\n",
       "    .dataframe tbody tr th {\n",
       "        vertical-align: top;\n",
       "    }\n",
       "\n",
       "    .dataframe thead th {\n",
       "        text-align: right;\n",
       "    }\n",
       "</style>\n",
       "<table border=\"1\" class=\"dataframe\">\n",
       "  <thead>\n",
       "    <tr style=\"text-align: right;\">\n",
       "      <th></th>\n",
       "      <th>target</th>\n",
       "      <th>text</th>\n",
       "    </tr>\n",
       "  </thead>\n",
       "  <tbody>\n",
       "    <tr>\n",
       "      <th>0</th>\n",
       "      <td>0</td>\n",
       "      <td>From: mathew &lt;mathew@mantis.co.uk&gt; Subject: Al...</td>\n",
       "    </tr>\n",
       "    <tr>\n",
       "      <th>1</th>\n",
       "      <td>0</td>\n",
       "      <td>From: mathew &lt;mathew@mantis.co.uk&gt; Subject: Al...</td>\n",
       "    </tr>\n",
       "    <tr>\n",
       "      <th>2</th>\n",
       "      <td>0</td>\n",
       "      <td>From: I3150101@dbstu1.rz.tu-bs.de (Benedikt Ro...</td>\n",
       "    </tr>\n",
       "    <tr>\n",
       "      <th>3</th>\n",
       "      <td>0</td>\n",
       "      <td>From: mathew &lt;mathew@mantis.co.uk&gt; Subject: Re...</td>\n",
       "    </tr>\n",
       "    <tr>\n",
       "      <th>4</th>\n",
       "      <td>0</td>\n",
       "      <td>From: strom@Watson.Ibm.Com (Rob Strom) Subject...</td>\n",
       "    </tr>\n",
       "    <tr>\n",
       "      <th>...</th>\n",
       "      <td>...</td>\n",
       "      <td>...</td>\n",
       "    </tr>\n",
       "    <tr>\n",
       "      <th>4572</th>\n",
       "      <td>7</td>\n",
       "      <td>From: cmort@NCoast.ORG (Christopher Morton) Su...</td>\n",
       "    </tr>\n",
       "    <tr>\n",
       "      <th>4573</th>\n",
       "      <td>7</td>\n",
       "      <td>From: fcrary@ucsu.Colorado.EDU (Frank Crary) S...</td>\n",
       "    </tr>\n",
       "    <tr>\n",
       "      <th>4574</th>\n",
       "      <td>7</td>\n",
       "      <td>Nntp-Posting-Host: surt.ifi.uio.no From: Thoma...</td>\n",
       "    </tr>\n",
       "    <tr>\n",
       "      <th>4575</th>\n",
       "      <td>7</td>\n",
       "      <td>From: cmort@NCoast.ORG (Christopher Morton) Su...</td>\n",
       "    </tr>\n",
       "    <tr>\n",
       "      <th>4576</th>\n",
       "      <td>7</td>\n",
       "      <td>From: feustel@netcom.com (David Feustel) Subje...</td>\n",
       "    </tr>\n",
       "  </tbody>\n",
       "</table>\n",
       "<p>4577 rows × 2 columns</p>\n",
       "</div>"
      ],
      "text/plain": [
       "      target                                               text\n",
       "0          0  From: mathew <mathew@mantis.co.uk> Subject: Al...\n",
       "1          0  From: mathew <mathew@mantis.co.uk> Subject: Al...\n",
       "2          0  From: I3150101@dbstu1.rz.tu-bs.de (Benedikt Ro...\n",
       "3          0  From: mathew <mathew@mantis.co.uk> Subject: Re...\n",
       "4          0  From: strom@Watson.Ibm.Com (Rob Strom) Subject...\n",
       "...      ...                                                ...\n",
       "4572       7  From: cmort@NCoast.ORG (Christopher Morton) Su...\n",
       "4573       7  From: fcrary@ucsu.Colorado.EDU (Frank Crary) S...\n",
       "4574       7  Nntp-Posting-Host: surt.ifi.uio.no From: Thoma...\n",
       "4575       7  From: cmort@NCoast.ORG (Christopher Morton) Su...\n",
       "4576       7  From: feustel@netcom.com (David Feustel) Subje...\n",
       "\n",
       "[4577 rows x 2 columns]"
      ]
     },
     "execution_count": 116,
     "metadata": {
      "tags": []
     },
     "output_type": "execute_result"
    }
   ],
   "source": [
    "train_20_data"
   ]
  },
  {
   "cell_type": "code",
   "execution_count": 0,
   "metadata": {
    "colab": {
     "base_uri": "https://localhost:8080/",
     "height": 1000
    },
    "colab_type": "code",
    "executionInfo": {
     "elapsed": 64036,
     "status": "ok",
     "timestamp": 1580476172733,
     "user": {
      "displayName": "EZEANI GODWIN",
      "photoUrl": "",
      "userId": "04749033323982820171"
     },
     "user_tz": -60
    },
    "id": "Uy6yceVHGicD",
    "outputId": "aa69f62b-b10c-464b-b8b0-f33aa826b315"
   },
   "outputs": [
    {
     "data": {
      "text/plain": [
       "array([[5.1, 3.5, 1.4, 0.2],\n",
       "       [4.9, 3. , 1.4, 0.2],\n",
       "       [4.7, 3.2, 1.3, 0.2],\n",
       "       [4.6, 3.1, 1.5, 0.2],\n",
       "       [5. , 3.6, 1.4, 0.2],\n",
       "       [5.4, 3.9, 1.7, 0.4],\n",
       "       [4.6, 3.4, 1.4, 0.3],\n",
       "       [5. , 3.4, 1.5, 0.2],\n",
       "       [4.4, 2.9, 1.4, 0.2],\n",
       "       [4.9, 3.1, 1.5, 0.1],\n",
       "       [5.4, 3.7, 1.5, 0.2],\n",
       "       [4.8, 3.4, 1.6, 0.2],\n",
       "       [4.8, 3. , 1.4, 0.1],\n",
       "       [4.3, 3. , 1.1, 0.1],\n",
       "       [5.8, 4. , 1.2, 0.2],\n",
       "       [5.7, 4.4, 1.5, 0.4],\n",
       "       [5.4, 3.9, 1.3, 0.4],\n",
       "       [5.1, 3.5, 1.4, 0.3],\n",
       "       [5.7, 3.8, 1.7, 0.3],\n",
       "       [5.1, 3.8, 1.5, 0.3],\n",
       "       [5.4, 3.4, 1.7, 0.2],\n",
       "       [5.1, 3.7, 1.5, 0.4],\n",
       "       [4.6, 3.6, 1. , 0.2],\n",
       "       [5.1, 3.3, 1.7, 0.5],\n",
       "       [4.8, 3.4, 1.9, 0.2],\n",
       "       [5. , 3. , 1.6, 0.2],\n",
       "       [5. , 3.4, 1.6, 0.4],\n",
       "       [5.2, 3.5, 1.5, 0.2],\n",
       "       [5.2, 3.4, 1.4, 0.2],\n",
       "       [4.7, 3.2, 1.6, 0.2],\n",
       "       [4.8, 3.1, 1.6, 0.2],\n",
       "       [5.4, 3.4, 1.5, 0.4],\n",
       "       [5.2, 4.1, 1.5, 0.1],\n",
       "       [5.5, 4.2, 1.4, 0.2],\n",
       "       [4.9, 3.1, 1.5, 0.1],\n",
       "       [5. , 3.2, 1.2, 0.2],\n",
       "       [5.5, 3.5, 1.3, 0.2],\n",
       "       [4.9, 3.1, 1.5, 0.1],\n",
       "       [4.4, 3. , 1.3, 0.2],\n",
       "       [5.1, 3.4, 1.5, 0.2],\n",
       "       [5. , 3.5, 1.3, 0.3],\n",
       "       [4.5, 2.3, 1.3, 0.3],\n",
       "       [4.4, 3.2, 1.3, 0.2],\n",
       "       [5. , 3.5, 1.6, 0.6],\n",
       "       [5.1, 3.8, 1.9, 0.4],\n",
       "       [4.8, 3. , 1.4, 0.3],\n",
       "       [5.1, 3.8, 1.6, 0.2],\n",
       "       [4.6, 3.2, 1.4, 0.2],\n",
       "       [5.3, 3.7, 1.5, 0.2],\n",
       "       [5. , 3.3, 1.4, 0.2],\n",
       "       [7. , 3.2, 4.7, 1.4],\n",
       "       [6.4, 3.2, 4.5, 1.5],\n",
       "       [6.9, 3.1, 4.9, 1.5],\n",
       "       [5.5, 2.3, 4. , 1.3],\n",
       "       [6.5, 2.8, 4.6, 1.5],\n",
       "       [5.7, 2.8, 4.5, 1.3],\n",
       "       [6.3, 3.3, 4.7, 1.6],\n",
       "       [4.9, 2.4, 3.3, 1. ],\n",
       "       [6.6, 2.9, 4.6, 1.3],\n",
       "       [5.2, 2.7, 3.9, 1.4],\n",
       "       [5. , 2. , 3.5, 1. ],\n",
       "       [5.9, 3. , 4.2, 1.5],\n",
       "       [6. , 2.2, 4. , 1. ],\n",
       "       [6.1, 2.9, 4.7, 1.4],\n",
       "       [5.6, 2.9, 3.6, 1.3],\n",
       "       [6.7, 3.1, 4.4, 1.4],\n",
       "       [5.6, 3. , 4.5, 1.5],\n",
       "       [5.8, 2.7, 4.1, 1. ],\n",
       "       [6.2, 2.2, 4.5, 1.5],\n",
       "       [5.6, 2.5, 3.9, 1.1],\n",
       "       [5.9, 3.2, 4.8, 1.8],\n",
       "       [6.1, 2.8, 4. , 1.3],\n",
       "       [6.3, 2.5, 4.9, 1.5],\n",
       "       [6.1, 2.8, 4.7, 1.2],\n",
       "       [6.4, 2.9, 4.3, 1.3],\n",
       "       [6.6, 3. , 4.4, 1.4],\n",
       "       [6.8, 2.8, 4.8, 1.4],\n",
       "       [6.7, 3. , 5. , 1.7],\n",
       "       [6. , 2.9, 4.5, 1.5],\n",
       "       [5.7, 2.6, 3.5, 1. ],\n",
       "       [5.5, 2.4, 3.8, 1.1],\n",
       "       [5.5, 2.4, 3.7, 1. ],\n",
       "       [5.8, 2.7, 3.9, 1.2],\n",
       "       [6. , 2.7, 5.1, 1.6],\n",
       "       [5.4, 3. , 4.5, 1.5],\n",
       "       [6. , 3.4, 4.5, 1.6],\n",
       "       [6.7, 3.1, 4.7, 1.5],\n",
       "       [6.3, 2.3, 4.4, 1.3],\n",
       "       [5.6, 3. , 4.1, 1.3],\n",
       "       [5.5, 2.5, 4. , 1.3],\n",
       "       [5.5, 2.6, 4.4, 1.2],\n",
       "       [6.1, 3. , 4.6, 1.4],\n",
       "       [5.8, 2.6, 4. , 1.2],\n",
       "       [5. , 2.3, 3.3, 1. ],\n",
       "       [5.6, 2.7, 4.2, 1.3],\n",
       "       [5.7, 3. , 4.2, 1.2],\n",
       "       [5.7, 2.9, 4.2, 1.3],\n",
       "       [6.2, 2.9, 4.3, 1.3],\n",
       "       [5.1, 2.5, 3. , 1.1],\n",
       "       [5.7, 2.8, 4.1, 1.3],\n",
       "       [6.3, 3.3, 6. , 2.5],\n",
       "       [5.8, 2.7, 5.1, 1.9],\n",
       "       [7.1, 3. , 5.9, 2.1],\n",
       "       [6.3, 2.9, 5.6, 1.8],\n",
       "       [6.5, 3. , 5.8, 2.2],\n",
       "       [7.6, 3. , 6.6, 2.1],\n",
       "       [4.9, 2.5, 4.5, 1.7],\n",
       "       [7.3, 2.9, 6.3, 1.8],\n",
       "       [6.7, 2.5, 5.8, 1.8],\n",
       "       [7.2, 3.6, 6.1, 2.5],\n",
       "       [6.5, 3.2, 5.1, 2. ],\n",
       "       [6.4, 2.7, 5.3, 1.9],\n",
       "       [6.8, 3. , 5.5, 2.1],\n",
       "       [5.7, 2.5, 5. , 2. ],\n",
       "       [5.8, 2.8, 5.1, 2.4],\n",
       "       [6.4, 3.2, 5.3, 2.3],\n",
       "       [6.5, 3. , 5.5, 1.8],\n",
       "       [7.7, 3.8, 6.7, 2.2],\n",
       "       [7.7, 2.6, 6.9, 2.3],\n",
       "       [6. , 2.2, 5. , 1.5],\n",
       "       [6.9, 3.2, 5.7, 2.3],\n",
       "       [5.6, 2.8, 4.9, 2. ],\n",
       "       [7.7, 2.8, 6.7, 2. ],\n",
       "       [6.3, 2.7, 4.9, 1.8],\n",
       "       [6.7, 3.3, 5.7, 2.1],\n",
       "       [7.2, 3.2, 6. , 1.8],\n",
       "       [6.2, 2.8, 4.8, 1.8],\n",
       "       [6.1, 3. , 4.9, 1.8],\n",
       "       [6.4, 2.8, 5.6, 2.1],\n",
       "       [7.2, 3. , 5.8, 1.6],\n",
       "       [7.4, 2.8, 6.1, 1.9],\n",
       "       [7.9, 3.8, 6.4, 2. ],\n",
       "       [6.4, 2.8, 5.6, 2.2],\n",
       "       [6.3, 2.8, 5.1, 1.5],\n",
       "       [6.1, 2.6, 5.6, 1.4],\n",
       "       [7.7, 3. , 6.1, 2.3],\n",
       "       [6.3, 3.4, 5.6, 2.4],\n",
       "       [6.4, 3.1, 5.5, 1.8],\n",
       "       [6. , 3. , 4.8, 1.8],\n",
       "       [6.9, 3.1, 5.4, 2.1],\n",
       "       [6.7, 3.1, 5.6, 2.4],\n",
       "       [6.9, 3.1, 5.1, 2.3],\n",
       "       [5.8, 2.7, 5.1, 1.9],\n",
       "       [6.8, 3.2, 5.9, 2.3],\n",
       "       [6.7, 3.3, 5.7, 2.5],\n",
       "       [6.7, 3. , 5.2, 2.3],\n",
       "       [6.3, 2.5, 5. , 1.9],\n",
       "       [6.5, 3. , 5.2, 2. ],\n",
       "       [6.2, 3.4, 5.4, 2.3],\n",
       "       [5.9, 3. , 5.1, 1.8]])"
      ]
     },
     "execution_count": 9,
     "metadata": {
      "tags": []
     },
     "output_type": "execute_result"
    }
   ],
   "source": [
    "dataset = pd.read_csv(\"iris.data\",names = [\"sepal length\", \"sepal width\", \"petal length\", \"petal width\", \"class\"])\n",
    "dataset.pop(\"class\")\n",
    "data = dataset.values\n",
    "data"
   ]
  },
  {
   "cell_type": "code",
   "execution_count": 0,
   "metadata": {
    "colab": {},
    "colab_type": "code",
    "id": "nPxp1bqJXYRn"
   },
   "outputs": [],
   "source": [
    "def norm(data, norm_data):\n",
    "    train_stats = data.describe()\n",
    "    train_stats = train_stats.transpose()\n",
    "    return(norm_data - train_stats['mean'])// train_stats['std']"
   ]
  },
  {
   "cell_type": "code",
   "execution_count": 0,
   "metadata": {
    "colab": {},
    "colab_type": "code",
    "id": "VhB37KMhX5tZ"
   },
   "outputs": [],
   "source": [
    "iris_df = norm(dataset,dataset)"
   ]
  },
  {
   "cell_type": "code",
   "execution_count": 0,
   "metadata": {
    "colab": {},
    "colab_type": "code",
    "id": "Cs9qIQh_XYbG"
   },
   "outputs": [],
   "source": [
    "from sklearn.model_selection import train_test_split\n",
    "def split(Xdata,ratio):\n",
    "    x_train, x_test,  = train_test_split(Xdata, test_size=ratio,random_state=0)\n",
    "    return x_train,x_test,\n",
    "\n",
    "x_train,x_test = split(dataset,0.2)\n",
    "print(x_train.shape)\n",
    "print(x_test.shape)"
   ]
  },
  {
   "cell_type": "code",
   "execution_count": 0,
   "metadata": {
    "colab": {},
    "colab_type": "code",
    "id": "Z3fgpc3vXYf9"
   },
   "outputs": [],
   "source": [
    "x_train = x_train.values\n",
    "x_test = x_test.values"
   ]
  },
  {
   "cell_type": "code",
   "execution_count": 0,
   "metadata": {
    "colab": {},
    "colab_type": "code",
    "id": "llSfXMHvXYnw"
   },
   "outputs": [],
   "source": [
    "def get_dist(data, centroid):\n",
    "  con = []\n",
    "  for mean in centroid:\n",
    "    count = 0\n",
    "    for i in range(len(data)):\n",
    "      count = count + (mean[i] - data[i])**2\n",
    "    count = np.sqrt(count)\n",
    "    con.append(count)\n",
    "  centroid = con.index(min(con))\n",
    "  return centroid\n"
   ]
  },
  {
   "cell_type": "markdown",
   "metadata": {
    "colab_type": "text",
    "id": "MbopWwhXTnhq"
   },
   "source": []
  },
  {
   "cell_type": "code",
   "execution_count": 0,
   "metadata": {
    "colab": {},
    "colab_type": "code",
    "id": "j379vi2q_v5J"
   },
   "outputs": [],
   "source": [
    "def new_centroid(centroid):\n",
    "  cent = []\n",
    "  for i in range(len(centroid)):\n",
    "    d =  \"list_\"+str(i)\n",
    "    data_points = centroid[d]\n",
    "    mean = np.sum(data_points,axis = 0)/len(data_points)\n",
    "\n",
    "    cent.append(mean)\n",
    "  cent = np.asarray(cent)\n",
    "  return cent\n",
    "\n"
   ]
  },
  {
   "cell_type": "code",
   "execution_count": 0,
   "metadata": {
    "colab": {},
    "colab_type": "code",
    "id": "dsljJuPtQwsA"
   },
   "outputs": [],
   "source": [
    "def predict(test, center):\n",
    "  predicted = []\n",
    "  for i in range(len(test)):\n",
    "    mean = get_dist(test[i],center)\n",
    "    predicted.append(mean)\n",
    "  predicted = np.asarray(predicted)\n",
    "  return predicted\n"
   ]
  },
  {
   "cell_type": "code",
   "execution_count": 0,
   "metadata": {
    "colab": {},
    "colab_type": "code",
    "id": "FdxlnMQIpZey"
   },
   "outputs": [],
   "source": [
    "def check_convergence(new,old):\n",
    "  cont = []\n",
    "  for ol,ne in zip(old,new):\n",
    "    dist = 0\n",
    "    for i in range(len(ol)):\n",
    "      \n",
    "     dist = dist + (ol[i]-ne[i])**2\n",
    "    dist = np.sqrt(dist)\n",
    "    cont.append(dist)\n",
    "  error = np.sum(cont)/len(cont)\n",
    "  return error\n",
    "\n",
    "    "
   ]
  },
  {
   "cell_type": "code",
   "execution_count": 0,
   "metadata": {
    "colab": {},
    "colab_type": "code",
    "id": "uNnZJq-J56Wx"
   },
   "outputs": [],
   "source": [
    "def get_WSS(knn, data1,max_iter = 100):\n",
    "  clusters,center = K_means(knn,data1,max_iter)\n",
    "  \n",
    "  oavdi = []\n",
    "  for i,cent in zip(range(len(clusters)),center):\n",
    "    dd =  \"list_\"+str(i)\n",
    "    clust = clusters[dd]\n",
    "    avdi = []\n",
    "    for x_inst in (clust):\n",
    "      di = 0\n",
    "      for i in range(len(x_inst)):\n",
    "        di = di + (x_inst[i] - cent[i])**2\n",
    "      di = np.sqrt(di)\n",
    "      avdi.append(di)\n",
    "    ssum = np.sum(avdi)/len(avdi)\n",
    "    oavdi.append(ssum)\n",
    "  WSS = np.sum(oavdi)/len(oavdi)\n",
    "\n",
    "  return WSS"
   ]
  },
  {
   "cell_type": "code",
   "execution_count": 0,
   "metadata": {
    "colab": {},
    "colab_type": "code",
    "id": "qK3SAJe6XYuS"
   },
   "outputs": [],
   "source": [
    "def K_means(k,data,max_iter,tolerance = 0.0001,):\n",
    "  centers = data[:k]\n",
    "  for epock in range(max_iter):\n",
    "    my_centroids = defaultdict(list)\n",
    "    for j in range(k):\n",
    "      my_centroids['list_' + str(j)]\n",
    "    for i in range(len(data)):\n",
    "      data_center = get_dist(data[i],centers)\n",
    "      x =  \"list_\"+str(data_center)\n",
    "      my_centroids[x].append(data[i])\n",
    "    \n",
    "    n_centroid = new_centroid(my_centroids)\n",
    "    check = check_convergence(n_centroid, centers)\n",
    "    centers = n_centroid\n",
    "    if check <tolerance:\n",
    "      print(\"converged\")\n",
    "      return my_centroids,n_centroid \n",
    "    else:\n",
    "      print(\"not converged, Error = \",check)\n",
    "  #return n_centroid\n",
    "  \n",
    "\n",
    "\n"
   ]
  },
  {
   "cell_type": "code",
   "execution_count": 0,
   "metadata": {
    "colab": {
     "base_uri": "https://localhost:8080/",
     "height": 1000
    },
    "colab_type": "code",
    "executionInfo": {
     "elapsed": 65056,
     "status": "ok",
     "timestamp": 1580476173968,
     "user": {
      "displayName": "EZEANI GODWIN",
      "photoUrl": "",
      "userId": "04749033323982820171"
     },
     "user_tz": -60
    },
    "id": "MupET1CPAygm",
    "outputId": "8d385c1c-9eeb-40a8-c7cd-9a1339afcefa"
   },
   "outputs": [
    {
     "name": "stdout",
     "output_type": "stream",
     "text": [
      "2\n",
      "not converged, Error =  1.1703436049569436\n",
      "not converged, Error =  0.3810279899284922\n",
      "not converged, Error =  0.3649807017158003\n",
      "not converged, Error =  0.18775418669066357\n",
      "not converged, Error =  0.044406764064707824\n",
      "converged\n",
      "3\n",
      "not converged, Error =  0.3799495854838304\n",
      "not converged, Error =  0.05605100360073006\n",
      "not converged, Error =  0.030574191677110975\n",
      "not converged, Error =  0.06549439479669787\n",
      "not converged, Error =  0.031251277384080844\n",
      "not converged, Error =  0.031977280675188395\n",
      "converged\n",
      "4\n",
      "not converged, Error =  0.458619744292168\n",
      "not converged, Error =  0.04595444973148596\n",
      "not converged, Error =  0.011564790171128004\n",
      "converged\n",
      "5\n",
      "not converged, Error =  0.45707810519955777\n",
      "not converged, Error =  0.13861358459645917\n",
      "not converged, Error =  0.10883965815708399\n",
      "not converged, Error =  0.018670427020739424\n",
      "converged\n",
      "6\n",
      "not converged, Error =  0.38572233940904205\n",
      "not converged, Error =  0.1407323932617319\n",
      "not converged, Error =  0.11700842836939161\n",
      "not converged, Error =  0.027301053817165927\n",
      "converged\n",
      "7\n",
      "not converged, Error =  0.38584733738386484\n",
      "not converged, Error =  0.15522684461165928\n",
      "not converged, Error =  0.12365335670668234\n",
      "not converged, Error =  0.04517967241406725\n",
      "not converged, Error =  0.0062684709232471835\n",
      "not converged, Error =  0.02397998890141092\n",
      "not converged, Error =  0.012756470429151215\n",
      "not converged, Error =  0.00812624660671155\n",
      "converged\n",
      "8\n",
      "not converged, Error =  0.3821395796724384\n",
      "not converged, Error =  0.15384249191182797\n",
      "not converged, Error =  0.12345963767429259\n",
      "not converged, Error =  0.05293252168277206\n",
      "not converged, Error =  0.005484912057841285\n",
      "not converged, Error =  0.020982490288734553\n",
      "not converged, Error =  0.011161911625507313\n",
      "not converged, Error =  0.007110465780872605\n",
      "converged\n",
      "9\n",
      "not converged, Error =  0.3391924305321808\n",
      "not converged, Error =  0.16168173263613844\n",
      "not converged, Error =  0.10308335974503287\n",
      "not converged, Error =  0.04414335163379104\n",
      "not converged, Error =  0.016910238308529148\n",
      "not converged, Error =  0.018651102478875158\n",
      "not converged, Error =  0.009921699222673167\n",
      "not converged, Error =  0.006320414027442316\n",
      "converged\n"
     ]
    }
   ],
   "source": [
    "# Parameter K optimization\n",
    "res = []\n",
    "kn = []\n",
    "for k in range(2,10):\n",
    "  print(k)\n",
    "  out = get_WSS(k, x_train)\n",
    "  res.append(out)\n",
    "  kn.append(k)\n"
   ]
  },
  {
   "cell_type": "code",
   "execution_count": 0,
   "metadata": {
    "colab": {
     "base_uri": "https://localhost:8080/",
     "height": 282
    },
    "colab_type": "code",
    "executionInfo": {
     "elapsed": 65035,
     "status": "ok",
     "timestamp": 1580476173971,
     "user": {
      "displayName": "EZEANI GODWIN",
      "photoUrl": "",
      "userId": "04749033323982820171"
     },
     "user_tz": -60
    },
    "id": "a6sgk5xjC5zd",
    "outputId": "2ed06cf3-d873-4a22-ad8d-be8f9e5ac7f7"
   },
   "outputs": [
    {
     "data": {
      "text/plain": [
       "[<matplotlib.lines.Line2D at 0x7fbc50a7df98>]"
      ]
     },
     "execution_count": 21,
     "metadata": {
      "tags": []
     },
     "output_type": "execute_result"
    },
    {
     "data": {
      "image/png": "[encoded data removed]",
      "text/plain": [
       "<Figure size 432x288 with 1 Axes>"
      ]
     },
     "metadata": {
      "tags": []
     },
     "output_type": "display_data"
    }
   ],
   "source": [
    "plt.plot(res,kn)"
   ]
  },
  {
   "cell_type": "code",
   "execution_count": 0,
   "metadata": {
    "colab": {
     "base_uri": "https://localhost:8080/",
     "height": 136
    },
    "colab_type": "code",
    "executionInfo": {
     "elapsed": 64999,
     "status": "ok",
     "timestamp": 1580476173972,
     "user": {
      "displayName": "EZEANI GODWIN",
      "photoUrl": "",
      "userId": "04749033323982820171"
     },
     "user_tz": -60
    },
    "id": "pUTFEkp8XY1J",
    "outputId": "c53d816d-a332-4342-ef3e-06484c50ab8f"
   },
   "outputs": [
    {
     "name": "stdout",
     "output_type": "stream",
     "text": [
      "not converged, Error =  0.3799495854838304\n",
      "not converged, Error =  0.05605100360073006\n",
      "not converged, Error =  0.030574191677110975\n",
      "not converged, Error =  0.06549439479669787\n",
      "not converged, Error =  0.031251277384080844\n",
      "not converged, Error =  0.031977280675188395\n",
      "converged\n"
     ]
    }
   ],
   "source": [
    "centroids_dict , clust = K_means(3,x_train,100)"
   ]
  },
  {
   "cell_type": "code",
   "execution_count": 0,
   "metadata": {
    "colab": {
     "base_uri": "https://localhost:8080/",
     "height": 51
    },
    "colab_type": "code",
    "executionInfo": {
     "elapsed": 64967,
     "status": "ok",
     "timestamp": 1580476173973,
     "user": {
      "displayName": "EZEANI GODWIN",
      "photoUrl": "",
      "userId": "04749033323982820171"
     },
     "user_tz": -60
    },
    "id": "wSNaJaXwwQas",
    "outputId": "030c562c-263e-44eb-9e5c-7ba61a59c147"
   },
   "outputs": [
    {
     "data": {
      "text/plain": [
       "array([1, 1, 2, 0, 2, 0, 2, 1, 1, 1, 0, 1, 1, 1, 1, 2, 1, 1, 2, 2, 1, 1,\n",
       "       2, 2, 1, 2, 2, 1, 1, 2])"
      ]
     },
     "execution_count": 23,
     "metadata": {
      "tags": []
     },
     "output_type": "execute_result"
    }
   ],
   "source": [
    "pred = predict(x_test,clust)\n",
    "pred = np.asarray(pred)\n",
    "pred"
   ]
  },
  {
   "cell_type": "code",
   "execution_count": 0,
   "metadata": {
    "colab": {
     "base_uri": "https://localhost:8080/",
     "height": 281
    },
    "colab_type": "code",
    "executionInfo": {
     "elapsed": 65496,
     "status": "ok",
     "timestamp": 1580476174547,
     "user": {
      "displayName": "EZEANI GODWIN",
      "photoUrl": "",
      "userId": "04749033323982820171"
     },
     "user_tz": -60
    },
    "id": "AMnIh-JwS1XX",
    "outputId": "4de89b7a-de39-4e80-9554-9011a57f212e"
   },
   "outputs": [
    {
     "data": {
      "image/png": "[encoded data removed]",
      "text/plain": [
       "<Figure size 432x288 with 1 Axes>"
      ]
     },
     "metadata": {
      "tags": []
     },
     "output_type": "display_data"
    }
   ],
   "source": [
    "plt.scatter(x_test[pred==0,0], x_test[pred==0,2], s = 100, c = 'red', )\n",
    "plt.scatter(x_test[pred==1,0], x_test[pred==1,2], s = 100, c = 'blue', )\n",
    "plt.scatter(x_test[pred==2,0], x_test[pred==2,2], s = 100, c = 'green',)\n",
    "plt.scatter(x_test[pred==3,0], x_test[pred==3,2], s = 100, c = 'cyan',)\n",
    "plt.scatter(x_test[pred==4,0], x_test[pred==4,2], s = 100, c = 'magenta',)\n",
    "plt.scatter(clust[:,0], clust[:,2], s = 300, c = 'yellow', label ='Centroids')\n",
    "plt.title('Clusters of clients')\n",
    "plt.ylabel('Spending score (1 -100)')\n",
    "plt.legend()\n",
    "plt.show()"
   ]
  },
  {
   "cell_type": "code",
   "execution_count": 0,
   "metadata": {
    "colab": {},
    "colab_type": "code",
    "id": "QY88NAmxw09k"
   },
   "outputs": [],
   "source": []
  },
  {
   "cell_type": "code",
   "execution_count": 0,
   "metadata": {
    "colab": {},
    "colab_type": "code",
    "id": "NfXhrFEdw1LO"
   },
   "outputs": [],
   "source": []
  },
  {
   "cell_type": "code",
   "execution_count": 0,
   "metadata": {
    "colab": {},
    "colab_type": "code",
    "id": "Vk4V6VDgw1ch"
   },
   "outputs": [],
   "source": []
  },
  {
   "cell_type": "code",
   "execution_count": 0,
   "metadata": {
    "colab": {},
    "colab_type": "code",
    "id": "0m04ugJyw1Hh"
   },
   "outputs": [],
   "source": []
  },
  {
   "cell_type": "markdown",
   "metadata": {
    "colab": {},
    "colab_type": "code",
    "id": "qZgG2cTZw1ES"
   },
   "source": [
    "# K-means with Raw dataset"
   ]
  },
  {
   "cell_type": "code",
   "execution_count": 15,
   "metadata": {
    "colab": {
     "base_uri": "https://localhost:8080/",
     "height": 51
    },
    "colab_type": "code",
    "executionInfo": {
     "elapsed": 767,
     "status": "ok",
     "timestamp": 1580560102538,
     "user": {
      "displayName": "EZEANI GODWIN",
      "photoUrl": "",
      "userId": "04749033323982820171"
     },
     "user_tz": -60
    },
    "id": "Cgx4By45Gig1",
    "outputId": "2ce06e6e-1809-430b-f252-4e784b9a1564"
   },
   "outputs": [
    {
     "name": "stdout",
     "output_type": "stream",
     "text": [
      "(4577, 2)\n",
      "(3048, 2)\n"
     ]
    }
   ],
   "source": [
    "train_20_data.drop_duplicates(inplace = True)\n",
    "test_20_data.drop_duplicates(inplace = True)\n",
    "train_20_data.isnull().sum()\n",
    "test_20_data.isnull().sum()\n",
    "print(train_20_data.shape)\n",
    "print(test_20_data.shape)"
   ]
  },
  {
   "cell_type": "code",
   "execution_count": 16,
   "metadata": {
    "colab": {
     "base_uri": "https://localhost:8080/",
     "height": 68
    },
    "colab_type": "code",
    "executionInfo": {
     "elapsed": 1511,
     "status": "ok",
     "timestamp": 1580560104666,
     "user": {
      "displayName": "EZEANI GODWIN",
      "photoUrl": "",
      "userId": "04749033323982820171"
     },
     "user_tz": -60
    },
    "id": "VoqOi9R-GilU",
    "outputId": "e4be45e1-69de-4139-9c1f-ee0118b749af"
   },
   "outputs": [
    {
     "name": "stdout",
     "output_type": "stream",
     "text": [
      "[nltk_data] Downloading package stopwords to /root/nltk_data...\n",
      "[nltk_data]   Package stopwords is already up-to-date!\n"
     ]
    },
    {
     "data": {
      "text/plain": [
       "True"
      ]
     },
     "execution_count": 16,
     "metadata": {
      "tags": []
     },
     "output_type": "execute_result"
    }
   ],
   "source": [
    "import nltk\n",
    "from nltk.corpus import stopwords\n",
    "import string\n",
    "nltk.download('stopwords')"
   ]
  },
  {
   "cell_type": "code",
   "execution_count": 0,
   "metadata": {
    "colab": {},
    "colab_type": "code",
    "id": "F-TQYAUxGish"
   },
   "outputs": [],
   "source": [
    "def process_text(text):\n",
    "    cont = []\n",
    "    nopunc = [char for char in text if char not in string.punctuation]\n",
    "    nopunc = ''.join(nopunc)\n",
    "    return nopunc"
   ]
  },
  {
   "cell_type": "code",
   "execution_count": 0,
   "metadata": {
    "colab": {},
    "colab_type": "code",
    "id": "FKx601t1Gi1E"
   },
   "outputs": [],
   "source": [
    "processed_train = train_20_data[\"text\"].apply(process_text)\n",
    "processed_test = test_20_data[\"text\"].apply(process_text)"
   ]
  },
  {
   "cell_type": "code",
   "execution_count": 19,
   "metadata": {
    "colab": {
     "base_uri": "https://localhost:8080/",
     "height": 221
    },
    "colab_type": "code",
    "executionInfo": {
     "elapsed": 480,
     "status": "ok",
     "timestamp": 1580560111226,
     "user": {
      "displayName": "EZEANI GODWIN",
      "photoUrl": "",
      "userId": "04749033323982820171"
     },
     "user_tz": -60
    },
    "id": "enaULrOZDge5",
    "outputId": "69133c10-6ce6-4bd4-c4dd-8176b91de0ae"
   },
   "outputs": [
    {
     "data": {
      "text/plain": [
       "0       From mathew mathewmantiscouk Subject AltAtheis...\n",
       "1       From mathew mathewmantiscouk Subject AltAtheis...\n",
       "2       From I3150101dbstu1rztubsde Benedikt Rosenau S...\n",
       "3       From mathew mathewmantiscouk Subject Re univer...\n",
       "4       From stromWatsonIbmCom Rob Strom Subject Re so...\n",
       "                              ...                        \n",
       "4572    From cmortNCoastORG Christopher Morton Subject...\n",
       "4573    From fcraryucsuColoradoEDU Frank Crary Subject...\n",
       "4574    NntpPostingHost surtifiuiono From Thomas Parsl...\n",
       "4575    From cmortNCoastORG Christopher Morton Subject...\n",
       "4576    From feustelnetcomcom David Feustel Subject Th...\n",
       "Name: text, Length: 4577, dtype: object"
      ]
     },
     "execution_count": 19,
     "metadata": {
      "tags": []
     },
     "output_type": "execute_result"
    }
   ],
   "source": [
    "processed_train"
   ]
  },
  {
   "cell_type": "code",
   "execution_count": 0,
   "metadata": {
    "colab": {},
    "colab_type": "code",
    "id": "YBxrq3W0GiqL"
   },
   "outputs": [],
   "source": [
    "def prep2(processe):\n",
    "  list_data = []\n",
    "  for d in processe:\n",
    "    pattern = re.compile(r'\\b(' + r'|'.join(stopwords.words('english')) + r')\\b\\s*')\n",
    "    text = pattern.sub('', d)\n",
    "    tmp = []\n",
    "    for i in text:\n",
    "      if not i.isdigit():\n",
    "        tmp.append(i)\n",
    "    joint = [''.join(tmp)]   \n",
    "    f = []\n",
    "    sop =[n.split() for n in joint]\n",
    "  \n",
    "    for job in sop[0]:\n",
    "      if len(job)<15:\n",
    "        f.append(job)\n",
    " \n",
    "    joint = ' '.join(f)\n",
    "  \n",
    "  \n",
    "  #new_joint = \"\".join(temp)\n",
    "\n",
    "\n",
    "    list_data.append(joint)\n",
    "  return list_data \n",
    "def prep(processe):\n",
    "  list_data = []\n",
    "  for d in processe:\n",
    "    pattern = re.compile(r'\\b(' + r'|'.join(stopwords.words('english')) + r')\\b\\s*')\n",
    "    text = pattern.sub('', d)\n",
    "    tmp = []\n",
    "    for i in text:\n",
    "      if not i.isdigit():\n",
    "        tmp.append(i)\n",
    "    joint = [''.join(tmp)]   \n",
    "    f = []\n",
    "    sop =[n.split() for n in joint]\n",
    "  \n",
    "    for job in sop[0]:\n",
    "      if len(job)>3:\n",
    "        f.append(job)\n",
    " \n",
    "    joint = ' '.join(f)\n",
    "  \n",
    "  \n",
    "  #new_joint = \"\".join(temp)\n",
    "\n",
    "\n",
    "    list_data.append(joint)\n",
    "  return list_data \n",
    "x_train2 = prep(processed_train)\n",
    "x_test2 = prep(processed_test)\n",
    "x_train2 = prep2(x_train2)\n",
    "x_test2 = prep2(x_test2)\n",
    "#x_test2"
   ]
  },
  {
   "cell_type": "code",
   "execution_count": 0,
   "metadata": {
    "colab": {},
    "colab_type": "code",
    "id": "w_kQBXpfO4bD"
   },
   "outputs": [],
   "source": [
    "\n",
    "def reduce(data):\n",
    "  cont = []\n",
    "  data = np.array(data)\n",
    "  for i in range(len(data)):\n",
    "    if len(data[i].split()) > 3:\n",
    "      cont.append(data[i])\n",
    "  return cont\n"
   ]
  },
  {
   "cell_type": "code",
   "execution_count": 0,
   "metadata": {
    "colab": {},
    "colab_type": "code",
    "id": "dOo7AyGHVRPm"
   },
   "outputs": [],
   "source": [
    "n_x_train= reduce(x_train2)\n",
    "n_x_test= reduce(x_test2)"
   ]
  },
  {
   "cell_type": "code",
   "execution_count": 0,
   "metadata": {
    "colab": {},
    "colab_type": "code",
    "id": "vSSSuhzdXHN8"
   },
   "outputs": [],
   "source": [
    "from sklearn.utils import shuffle\n",
    "x_train2,y_train2 = shuffle(x_train2,train_20_data[\"target\"].values, random_state=0)\n",
    "x_test2, y_test2 = shuffle(x_test2,test_20_data[\"target\"].values,random_state = 0)"
   ]
  },
  {
   "cell_type": "code",
   "execution_count": 0,
   "metadata": {
    "colab": {},
    "colab_type": "code",
    "id": "1hnp7413KrA1"
   },
   "outputs": [],
   "source": [
    "print(len(n_x_train))\n",
    "print(len(n_x_test))\n",
    "n_x_train"
   ]
  },
  {
   "cell_type": "code",
   "execution_count": 0,
   "metadata": {
    "colab": {},
    "colab_type": "code",
    "id": "9u2g1XVmMipi"
   },
   "outputs": [],
   "source": [
    "from sklearn.feature_extraction.text import CountVectorizer\n",
    "vect = CountVectorizer(min_df=0., max_df=1.0)\n",
    "vect2 = CountVectorizer(min_df=0., max_df=1.0)\n",
    "messages_bow1 = vect.fit_transform(x_train2)\n",
    "messages_bow2 = vect2.fit_transform(x_test2)\n",
    "x_train2 = pd.DataFrame(messages_bow1.A, columns=vect.get_feature_names())\n",
    "x_test2 = pd.DataFrame(messages_bow2.A, columns=vect2.get_feature_names())\n",
    "##x_train2 = messages_bow1.A\n",
    "#x_test2 = messages_bow2.A"
   ]
  },
  {
   "cell_type": "code",
   "execution_count": 49,
   "metadata": {
    "colab": {
     "base_uri": "https://localhost:8080/",
     "height": 439
    },
    "colab_type": "code",
    "executionInfo": {
     "elapsed": 728,
     "status": "ok",
     "timestamp": 1580550258662,
     "user": {
      "displayName": "EZEANI GODWIN",
      "photoUrl": "",
      "userId": "04749033323982820171"
     },
     "user_tz": -60
    },
    "id": "NIBF0ZvYT0cI",
    "outputId": "edc0d1c4-1081-4eb6-b194-d4a70c63ce27"
   },
   "outputs": [
    {
     "data": {
      "text/html": [
       "<div>\n",
       "<style scoped>\n",
       "    .dataframe tbody tr th:only-of-type {\n",
       "        vertical-align: middle;\n",
       "    }\n",
       "\n",
       "    .dataframe tbody tr th {\n",
       "        vertical-align: top;\n",
       "    }\n",
       "\n",
       "    .dataframe thead th {\n",
       "        text-align: right;\n",
       "    }\n",
       "</style>\n",
       "<table border=\"1\" class=\"dataframe\">\n",
       "  <thead>\n",
       "    <tr style=\"text-align: right;\">\n",
       "      <th></th>\n",
       "      <th>aaaa</th>\n",
       "      <th>aaah</th>\n",
       "      <th>aaai</th>\n",
       "      <th>aaaimit</th>\n",
       "      <th>aacc</th>\n",
       "      <th>aaffff</th>\n",
       "      <th>aafffff</th>\n",
       "      <th>aakeplerunhedu</th>\n",
       "      <th>aalborg</th>\n",
       "      <th>aamazing</th>\n",
       "      <th>aamir</th>\n",
       "      <th>aanbieden</th>\n",
       "      <th>aanerud</th>\n",
       "      <th>aangeboden</th>\n",
       "      <th>aangezien</th>\n",
       "      <th>aaplayexe</th>\n",
       "      <th>aarhus</th>\n",
       "      <th>aario</th>\n",
       "      <th>aarm</th>\n",
       "      <th>aaron</th>\n",
       "      <th>aarons</th>\n",
       "      <th>aaronson</th>\n",
       "      <th>aarp</th>\n",
       "      <th>aarskog</th>\n",
       "      <th>aaspocwruedu</th>\n",
       "      <th>aasunpanixcom</th>\n",
       "      <th>aatchoo</th>\n",
       "      <th>aaxclear</th>\n",
       "      <th>abacus</th>\n",
       "      <th>abad</th>\n",
       "      <th>abandon</th>\n",
       "      <th>abandoned</th>\n",
       "      <th>abandoning</th>\n",
       "      <th>abatement</th>\n",
       "      <th>abates</th>\n",
       "      <th>abberation</th>\n",
       "      <th>abbie</th>\n",
       "      <th>abbott</th>\n",
       "      <th>abbreviation</th>\n",
       "      <th>abbreviations</th>\n",
       "      <th>...</th>\n",
       "      <th>zoning</th>\n",
       "      <th>zonkercmuedu</th>\n",
       "      <th>zoom</th>\n",
       "      <th>zooming</th>\n",
       "      <th>zoomingin</th>\n",
       "      <th>zoomins</th>\n",
       "      <th>zooms</th>\n",
       "      <th>zopfi</th>\n",
       "      <th>zorasterism</th>\n",
       "      <th>zorg</th>\n",
       "      <th>zork</th>\n",
       "      <th>zorns</th>\n",
       "      <th>zortech</th>\n",
       "      <th>zqqwxymnm</th>\n",
       "      <th>zruty</th>\n",
       "      <th>zsofts</th>\n",
       "      <th>zubkoff</th>\n",
       "      <th>zues</th>\n",
       "      <th>zuiko</th>\n",
       "      <th>zulu</th>\n",
       "      <th>zumbo</th>\n",
       "      <th>zumdahl</th>\n",
       "      <th>zumder</th>\n",
       "      <th>zurich</th>\n",
       "      <th>zurlo</th>\n",
       "      <th>zusman</th>\n",
       "      <th>zvonko</th>\n",
       "      <th>zvtkmjobmffsqm</th>\n",
       "      <th>zwart</th>\n",
       "      <th>zwhwx</th>\n",
       "      <th>zyklonb</th>\n",
       "      <th>zyxel</th>\n",
       "      <th>zzzs</th>\n",
       "      <th>ªl</th>\n",
       "      <th>çait</th>\n",
       "      <th>èresalle</th>\n",
       "      <th>égligent</th>\n",
       "      <th>élangea</th>\n",
       "      <th>érale</th>\n",
       "      <th>íålittin</th>\n",
       "    </tr>\n",
       "  </thead>\n",
       "  <tbody>\n",
       "    <tr>\n",
       "      <th>0</th>\n",
       "      <td>0</td>\n",
       "      <td>0</td>\n",
       "      <td>0</td>\n",
       "      <td>0</td>\n",
       "      <td>0</td>\n",
       "      <td>0</td>\n",
       "      <td>0</td>\n",
       "      <td>0</td>\n",
       "      <td>0</td>\n",
       "      <td>0</td>\n",
       "      <td>0</td>\n",
       "      <td>0</td>\n",
       "      <td>0</td>\n",
       "      <td>0</td>\n",
       "      <td>0</td>\n",
       "      <td>0</td>\n",
       "      <td>0</td>\n",
       "      <td>0</td>\n",
       "      <td>0</td>\n",
       "      <td>0</td>\n",
       "      <td>0</td>\n",
       "      <td>0</td>\n",
       "      <td>0</td>\n",
       "      <td>0</td>\n",
       "      <td>0</td>\n",
       "      <td>0</td>\n",
       "      <td>0</td>\n",
       "      <td>0</td>\n",
       "      <td>0</td>\n",
       "      <td>0</td>\n",
       "      <td>0</td>\n",
       "      <td>0</td>\n",
       "      <td>0</td>\n",
       "      <td>0</td>\n",
       "      <td>0</td>\n",
       "      <td>0</td>\n",
       "      <td>0</td>\n",
       "      <td>0</td>\n",
       "      <td>0</td>\n",
       "      <td>0</td>\n",
       "      <td>...</td>\n",
       "      <td>0</td>\n",
       "      <td>0</td>\n",
       "      <td>0</td>\n",
       "      <td>0</td>\n",
       "      <td>0</td>\n",
       "      <td>0</td>\n",
       "      <td>0</td>\n",
       "      <td>0</td>\n",
       "      <td>0</td>\n",
       "      <td>0</td>\n",
       "      <td>0</td>\n",
       "      <td>0</td>\n",
       "      <td>0</td>\n",
       "      <td>0</td>\n",
       "      <td>0</td>\n",
       "      <td>0</td>\n",
       "      <td>0</td>\n",
       "      <td>0</td>\n",
       "      <td>0</td>\n",
       "      <td>0</td>\n",
       "      <td>0</td>\n",
       "      <td>0</td>\n",
       "      <td>0</td>\n",
       "      <td>0</td>\n",
       "      <td>0</td>\n",
       "      <td>0</td>\n",
       "      <td>0</td>\n",
       "      <td>0</td>\n",
       "      <td>0</td>\n",
       "      <td>0</td>\n",
       "      <td>0</td>\n",
       "      <td>0</td>\n",
       "      <td>0</td>\n",
       "      <td>0</td>\n",
       "      <td>0</td>\n",
       "      <td>0</td>\n",
       "      <td>0</td>\n",
       "      <td>0</td>\n",
       "      <td>0</td>\n",
       "      <td>0</td>\n",
       "    </tr>\n",
       "    <tr>\n",
       "      <th>1</th>\n",
       "      <td>0</td>\n",
       "      <td>0</td>\n",
       "      <td>0</td>\n",
       "      <td>0</td>\n",
       "      <td>0</td>\n",
       "      <td>0</td>\n",
       "      <td>0</td>\n",
       "      <td>0</td>\n",
       "      <td>0</td>\n",
       "      <td>0</td>\n",
       "      <td>0</td>\n",
       "      <td>0</td>\n",
       "      <td>0</td>\n",
       "      <td>0</td>\n",
       "      <td>0</td>\n",
       "      <td>0</td>\n",
       "      <td>0</td>\n",
       "      <td>0</td>\n",
       "      <td>0</td>\n",
       "      <td>0</td>\n",
       "      <td>0</td>\n",
       "      <td>0</td>\n",
       "      <td>0</td>\n",
       "      <td>0</td>\n",
       "      <td>0</td>\n",
       "      <td>0</td>\n",
       "      <td>0</td>\n",
       "      <td>0</td>\n",
       "      <td>0</td>\n",
       "      <td>0</td>\n",
       "      <td>0</td>\n",
       "      <td>0</td>\n",
       "      <td>0</td>\n",
       "      <td>0</td>\n",
       "      <td>0</td>\n",
       "      <td>0</td>\n",
       "      <td>0</td>\n",
       "      <td>0</td>\n",
       "      <td>0</td>\n",
       "      <td>0</td>\n",
       "      <td>...</td>\n",
       "      <td>0</td>\n",
       "      <td>0</td>\n",
       "      <td>0</td>\n",
       "      <td>0</td>\n",
       "      <td>0</td>\n",
       "      <td>0</td>\n",
       "      <td>0</td>\n",
       "      <td>0</td>\n",
       "      <td>0</td>\n",
       "      <td>0</td>\n",
       "      <td>0</td>\n",
       "      <td>0</td>\n",
       "      <td>0</td>\n",
       "      <td>0</td>\n",
       "      <td>0</td>\n",
       "      <td>0</td>\n",
       "      <td>0</td>\n",
       "      <td>0</td>\n",
       "      <td>0</td>\n",
       "      <td>0</td>\n",
       "      <td>0</td>\n",
       "      <td>0</td>\n",
       "      <td>0</td>\n",
       "      <td>0</td>\n",
       "      <td>0</td>\n",
       "      <td>0</td>\n",
       "      <td>0</td>\n",
       "      <td>0</td>\n",
       "      <td>0</td>\n",
       "      <td>0</td>\n",
       "      <td>0</td>\n",
       "      <td>0</td>\n",
       "      <td>0</td>\n",
       "      <td>0</td>\n",
       "      <td>0</td>\n",
       "      <td>0</td>\n",
       "      <td>0</td>\n",
       "      <td>0</td>\n",
       "      <td>0</td>\n",
       "      <td>0</td>\n",
       "    </tr>\n",
       "    <tr>\n",
       "      <th>2</th>\n",
       "      <td>0</td>\n",
       "      <td>0</td>\n",
       "      <td>0</td>\n",
       "      <td>0</td>\n",
       "      <td>0</td>\n",
       "      <td>0</td>\n",
       "      <td>0</td>\n",
       "      <td>0</td>\n",
       "      <td>0</td>\n",
       "      <td>0</td>\n",
       "      <td>0</td>\n",
       "      <td>0</td>\n",
       "      <td>0</td>\n",
       "      <td>0</td>\n",
       "      <td>0</td>\n",
       "      <td>0</td>\n",
       "      <td>0</td>\n",
       "      <td>0</td>\n",
       "      <td>0</td>\n",
       "      <td>0</td>\n",
       "      <td>0</td>\n",
       "      <td>0</td>\n",
       "      <td>0</td>\n",
       "      <td>0</td>\n",
       "      <td>0</td>\n",
       "      <td>0</td>\n",
       "      <td>0</td>\n",
       "      <td>0</td>\n",
       "      <td>0</td>\n",
       "      <td>0</td>\n",
       "      <td>0</td>\n",
       "      <td>0</td>\n",
       "      <td>0</td>\n",
       "      <td>0</td>\n",
       "      <td>0</td>\n",
       "      <td>0</td>\n",
       "      <td>0</td>\n",
       "      <td>0</td>\n",
       "      <td>0</td>\n",
       "      <td>0</td>\n",
       "      <td>...</td>\n",
       "      <td>0</td>\n",
       "      <td>0</td>\n",
       "      <td>0</td>\n",
       "      <td>0</td>\n",
       "      <td>0</td>\n",
       "      <td>0</td>\n",
       "      <td>0</td>\n",
       "      <td>0</td>\n",
       "      <td>0</td>\n",
       "      <td>0</td>\n",
       "      <td>0</td>\n",
       "      <td>0</td>\n",
       "      <td>0</td>\n",
       "      <td>0</td>\n",
       "      <td>0</td>\n",
       "      <td>0</td>\n",
       "      <td>0</td>\n",
       "      <td>0</td>\n",
       "      <td>0</td>\n",
       "      <td>0</td>\n",
       "      <td>0</td>\n",
       "      <td>0</td>\n",
       "      <td>0</td>\n",
       "      <td>0</td>\n",
       "      <td>0</td>\n",
       "      <td>0</td>\n",
       "      <td>0</td>\n",
       "      <td>0</td>\n",
       "      <td>0</td>\n",
       "      <td>0</td>\n",
       "      <td>0</td>\n",
       "      <td>0</td>\n",
       "      <td>0</td>\n",
       "      <td>0</td>\n",
       "      <td>0</td>\n",
       "      <td>0</td>\n",
       "      <td>0</td>\n",
       "      <td>0</td>\n",
       "      <td>0</td>\n",
       "      <td>0</td>\n",
       "    </tr>\n",
       "    <tr>\n",
       "      <th>3</th>\n",
       "      <td>0</td>\n",
       "      <td>0</td>\n",
       "      <td>0</td>\n",
       "      <td>0</td>\n",
       "      <td>0</td>\n",
       "      <td>0</td>\n",
       "      <td>0</td>\n",
       "      <td>0</td>\n",
       "      <td>0</td>\n",
       "      <td>0</td>\n",
       "      <td>0</td>\n",
       "      <td>0</td>\n",
       "      <td>0</td>\n",
       "      <td>0</td>\n",
       "      <td>0</td>\n",
       "      <td>0</td>\n",
       "      <td>0</td>\n",
       "      <td>0</td>\n",
       "      <td>0</td>\n",
       "      <td>0</td>\n",
       "      <td>0</td>\n",
       "      <td>0</td>\n",
       "      <td>0</td>\n",
       "      <td>0</td>\n",
       "      <td>0</td>\n",
       "      <td>0</td>\n",
       "      <td>0</td>\n",
       "      <td>0</td>\n",
       "      <td>0</td>\n",
       "      <td>0</td>\n",
       "      <td>0</td>\n",
       "      <td>0</td>\n",
       "      <td>0</td>\n",
       "      <td>0</td>\n",
       "      <td>0</td>\n",
       "      <td>0</td>\n",
       "      <td>0</td>\n",
       "      <td>0</td>\n",
       "      <td>0</td>\n",
       "      <td>0</td>\n",
       "      <td>...</td>\n",
       "      <td>0</td>\n",
       "      <td>0</td>\n",
       "      <td>0</td>\n",
       "      <td>0</td>\n",
       "      <td>0</td>\n",
       "      <td>0</td>\n",
       "      <td>0</td>\n",
       "      <td>0</td>\n",
       "      <td>0</td>\n",
       "      <td>0</td>\n",
       "      <td>0</td>\n",
       "      <td>0</td>\n",
       "      <td>0</td>\n",
       "      <td>0</td>\n",
       "      <td>0</td>\n",
       "      <td>0</td>\n",
       "      <td>0</td>\n",
       "      <td>0</td>\n",
       "      <td>0</td>\n",
       "      <td>0</td>\n",
       "      <td>0</td>\n",
       "      <td>0</td>\n",
       "      <td>0</td>\n",
       "      <td>0</td>\n",
       "      <td>0</td>\n",
       "      <td>0</td>\n",
       "      <td>0</td>\n",
       "      <td>0</td>\n",
       "      <td>0</td>\n",
       "      <td>0</td>\n",
       "      <td>0</td>\n",
       "      <td>0</td>\n",
       "      <td>0</td>\n",
       "      <td>0</td>\n",
       "      <td>0</td>\n",
       "      <td>0</td>\n",
       "      <td>0</td>\n",
       "      <td>0</td>\n",
       "      <td>0</td>\n",
       "      <td>0</td>\n",
       "    </tr>\n",
       "    <tr>\n",
       "      <th>4</th>\n",
       "      <td>0</td>\n",
       "      <td>0</td>\n",
       "      <td>0</td>\n",
       "      <td>0</td>\n",
       "      <td>0</td>\n",
       "      <td>0</td>\n",
       "      <td>0</td>\n",
       "      <td>0</td>\n",
       "      <td>0</td>\n",
       "      <td>0</td>\n",
       "      <td>0</td>\n",
       "      <td>0</td>\n",
       "      <td>0</td>\n",
       "      <td>0</td>\n",
       "      <td>0</td>\n",
       "      <td>0</td>\n",
       "      <td>0</td>\n",
       "      <td>0</td>\n",
       "      <td>0</td>\n",
       "      <td>0</td>\n",
       "      <td>0</td>\n",
       "      <td>0</td>\n",
       "      <td>0</td>\n",
       "      <td>0</td>\n",
       "      <td>0</td>\n",
       "      <td>0</td>\n",
       "      <td>0</td>\n",
       "      <td>0</td>\n",
       "      <td>0</td>\n",
       "      <td>0</td>\n",
       "      <td>0</td>\n",
       "      <td>0</td>\n",
       "      <td>0</td>\n",
       "      <td>0</td>\n",
       "      <td>0</td>\n",
       "      <td>0</td>\n",
       "      <td>0</td>\n",
       "      <td>0</td>\n",
       "      <td>0</td>\n",
       "      <td>0</td>\n",
       "      <td>...</td>\n",
       "      <td>0</td>\n",
       "      <td>0</td>\n",
       "      <td>0</td>\n",
       "      <td>0</td>\n",
       "      <td>0</td>\n",
       "      <td>0</td>\n",
       "      <td>0</td>\n",
       "      <td>0</td>\n",
       "      <td>0</td>\n",
       "      <td>0</td>\n",
       "      <td>0</td>\n",
       "      <td>0</td>\n",
       "      <td>0</td>\n",
       "      <td>0</td>\n",
       "      <td>0</td>\n",
       "      <td>0</td>\n",
       "      <td>0</td>\n",
       "      <td>0</td>\n",
       "      <td>0</td>\n",
       "      <td>0</td>\n",
       "      <td>0</td>\n",
       "      <td>0</td>\n",
       "      <td>0</td>\n",
       "      <td>0</td>\n",
       "      <td>0</td>\n",
       "      <td>0</td>\n",
       "      <td>0</td>\n",
       "      <td>0</td>\n",
       "      <td>0</td>\n",
       "      <td>0</td>\n",
       "      <td>0</td>\n",
       "      <td>0</td>\n",
       "      <td>0</td>\n",
       "      <td>0</td>\n",
       "      <td>0</td>\n",
       "      <td>0</td>\n",
       "      <td>0</td>\n",
       "      <td>0</td>\n",
       "      <td>0</td>\n",
       "      <td>0</td>\n",
       "    </tr>\n",
       "    <tr>\n",
       "      <th>...</th>\n",
       "      <td>...</td>\n",
       "      <td>...</td>\n",
       "      <td>...</td>\n",
       "      <td>...</td>\n",
       "      <td>...</td>\n",
       "      <td>...</td>\n",
       "      <td>...</td>\n",
       "      <td>...</td>\n",
       "      <td>...</td>\n",
       "      <td>...</td>\n",
       "      <td>...</td>\n",
       "      <td>...</td>\n",
       "      <td>...</td>\n",
       "      <td>...</td>\n",
       "      <td>...</td>\n",
       "      <td>...</td>\n",
       "      <td>...</td>\n",
       "      <td>...</td>\n",
       "      <td>...</td>\n",
       "      <td>...</td>\n",
       "      <td>...</td>\n",
       "      <td>...</td>\n",
       "      <td>...</td>\n",
       "      <td>...</td>\n",
       "      <td>...</td>\n",
       "      <td>...</td>\n",
       "      <td>...</td>\n",
       "      <td>...</td>\n",
       "      <td>...</td>\n",
       "      <td>...</td>\n",
       "      <td>...</td>\n",
       "      <td>...</td>\n",
       "      <td>...</td>\n",
       "      <td>...</td>\n",
       "      <td>...</td>\n",
       "      <td>...</td>\n",
       "      <td>...</td>\n",
       "      <td>...</td>\n",
       "      <td>...</td>\n",
       "      <td>...</td>\n",
       "      <td>...</td>\n",
       "      <td>...</td>\n",
       "      <td>...</td>\n",
       "      <td>...</td>\n",
       "      <td>...</td>\n",
       "      <td>...</td>\n",
       "      <td>...</td>\n",
       "      <td>...</td>\n",
       "      <td>...</td>\n",
       "      <td>...</td>\n",
       "      <td>...</td>\n",
       "      <td>...</td>\n",
       "      <td>...</td>\n",
       "      <td>...</td>\n",
       "      <td>...</td>\n",
       "      <td>...</td>\n",
       "      <td>...</td>\n",
       "      <td>...</td>\n",
       "      <td>...</td>\n",
       "      <td>...</td>\n",
       "      <td>...</td>\n",
       "      <td>...</td>\n",
       "      <td>...</td>\n",
       "      <td>...</td>\n",
       "      <td>...</td>\n",
       "      <td>...</td>\n",
       "      <td>...</td>\n",
       "      <td>...</td>\n",
       "      <td>...</td>\n",
       "      <td>...</td>\n",
       "      <td>...</td>\n",
       "      <td>...</td>\n",
       "      <td>...</td>\n",
       "      <td>...</td>\n",
       "      <td>...</td>\n",
       "      <td>...</td>\n",
       "      <td>...</td>\n",
       "      <td>...</td>\n",
       "      <td>...</td>\n",
       "      <td>...</td>\n",
       "      <td>...</td>\n",
       "    </tr>\n",
       "    <tr>\n",
       "      <th>4572</th>\n",
       "      <td>0</td>\n",
       "      <td>0</td>\n",
       "      <td>0</td>\n",
       "      <td>0</td>\n",
       "      <td>0</td>\n",
       "      <td>0</td>\n",
       "      <td>0</td>\n",
       "      <td>0</td>\n",
       "      <td>0</td>\n",
       "      <td>0</td>\n",
       "      <td>0</td>\n",
       "      <td>0</td>\n",
       "      <td>0</td>\n",
       "      <td>0</td>\n",
       "      <td>0</td>\n",
       "      <td>0</td>\n",
       "      <td>0</td>\n",
       "      <td>0</td>\n",
       "      <td>0</td>\n",
       "      <td>0</td>\n",
       "      <td>0</td>\n",
       "      <td>0</td>\n",
       "      <td>0</td>\n",
       "      <td>0</td>\n",
       "      <td>0</td>\n",
       "      <td>0</td>\n",
       "      <td>0</td>\n",
       "      <td>0</td>\n",
       "      <td>0</td>\n",
       "      <td>0</td>\n",
       "      <td>0</td>\n",
       "      <td>0</td>\n",
       "      <td>0</td>\n",
       "      <td>0</td>\n",
       "      <td>0</td>\n",
       "      <td>0</td>\n",
       "      <td>0</td>\n",
       "      <td>0</td>\n",
       "      <td>0</td>\n",
       "      <td>0</td>\n",
       "      <td>...</td>\n",
       "      <td>0</td>\n",
       "      <td>0</td>\n",
       "      <td>0</td>\n",
       "      <td>0</td>\n",
       "      <td>0</td>\n",
       "      <td>0</td>\n",
       "      <td>0</td>\n",
       "      <td>0</td>\n",
       "      <td>0</td>\n",
       "      <td>0</td>\n",
       "      <td>0</td>\n",
       "      <td>0</td>\n",
       "      <td>0</td>\n",
       "      <td>0</td>\n",
       "      <td>0</td>\n",
       "      <td>0</td>\n",
       "      <td>0</td>\n",
       "      <td>0</td>\n",
       "      <td>0</td>\n",
       "      <td>0</td>\n",
       "      <td>0</td>\n",
       "      <td>0</td>\n",
       "      <td>0</td>\n",
       "      <td>0</td>\n",
       "      <td>0</td>\n",
       "      <td>0</td>\n",
       "      <td>0</td>\n",
       "      <td>0</td>\n",
       "      <td>0</td>\n",
       "      <td>0</td>\n",
       "      <td>0</td>\n",
       "      <td>0</td>\n",
       "      <td>0</td>\n",
       "      <td>0</td>\n",
       "      <td>0</td>\n",
       "      <td>0</td>\n",
       "      <td>0</td>\n",
       "      <td>0</td>\n",
       "      <td>0</td>\n",
       "      <td>0</td>\n",
       "    </tr>\n",
       "    <tr>\n",
       "      <th>4573</th>\n",
       "      <td>0</td>\n",
       "      <td>0</td>\n",
       "      <td>0</td>\n",
       "      <td>0</td>\n",
       "      <td>0</td>\n",
       "      <td>0</td>\n",
       "      <td>0</td>\n",
       "      <td>0</td>\n",
       "      <td>0</td>\n",
       "      <td>0</td>\n",
       "      <td>0</td>\n",
       "      <td>0</td>\n",
       "      <td>0</td>\n",
       "      <td>0</td>\n",
       "      <td>0</td>\n",
       "      <td>0</td>\n",
       "      <td>0</td>\n",
       "      <td>0</td>\n",
       "      <td>0</td>\n",
       "      <td>0</td>\n",
       "      <td>0</td>\n",
       "      <td>0</td>\n",
       "      <td>0</td>\n",
       "      <td>0</td>\n",
       "      <td>0</td>\n",
       "      <td>0</td>\n",
       "      <td>0</td>\n",
       "      <td>0</td>\n",
       "      <td>0</td>\n",
       "      <td>0</td>\n",
       "      <td>0</td>\n",
       "      <td>0</td>\n",
       "      <td>0</td>\n",
       "      <td>0</td>\n",
       "      <td>0</td>\n",
       "      <td>0</td>\n",
       "      <td>0</td>\n",
       "      <td>0</td>\n",
       "      <td>0</td>\n",
       "      <td>0</td>\n",
       "      <td>...</td>\n",
       "      <td>0</td>\n",
       "      <td>0</td>\n",
       "      <td>0</td>\n",
       "      <td>0</td>\n",
       "      <td>0</td>\n",
       "      <td>0</td>\n",
       "      <td>0</td>\n",
       "      <td>0</td>\n",
       "      <td>0</td>\n",
       "      <td>0</td>\n",
       "      <td>0</td>\n",
       "      <td>0</td>\n",
       "      <td>0</td>\n",
       "      <td>0</td>\n",
       "      <td>0</td>\n",
       "      <td>0</td>\n",
       "      <td>0</td>\n",
       "      <td>0</td>\n",
       "      <td>0</td>\n",
       "      <td>0</td>\n",
       "      <td>0</td>\n",
       "      <td>0</td>\n",
       "      <td>0</td>\n",
       "      <td>0</td>\n",
       "      <td>0</td>\n",
       "      <td>0</td>\n",
       "      <td>0</td>\n",
       "      <td>0</td>\n",
       "      <td>0</td>\n",
       "      <td>0</td>\n",
       "      <td>0</td>\n",
       "      <td>0</td>\n",
       "      <td>0</td>\n",
       "      <td>0</td>\n",
       "      <td>0</td>\n",
       "      <td>0</td>\n",
       "      <td>0</td>\n",
       "      <td>0</td>\n",
       "      <td>0</td>\n",
       "      <td>0</td>\n",
       "    </tr>\n",
       "    <tr>\n",
       "      <th>4574</th>\n",
       "      <td>0</td>\n",
       "      <td>0</td>\n",
       "      <td>0</td>\n",
       "      <td>0</td>\n",
       "      <td>0</td>\n",
       "      <td>0</td>\n",
       "      <td>0</td>\n",
       "      <td>0</td>\n",
       "      <td>0</td>\n",
       "      <td>0</td>\n",
       "      <td>0</td>\n",
       "      <td>0</td>\n",
       "      <td>0</td>\n",
       "      <td>0</td>\n",
       "      <td>0</td>\n",
       "      <td>0</td>\n",
       "      <td>0</td>\n",
       "      <td>0</td>\n",
       "      <td>0</td>\n",
       "      <td>0</td>\n",
       "      <td>0</td>\n",
       "      <td>0</td>\n",
       "      <td>0</td>\n",
       "      <td>0</td>\n",
       "      <td>0</td>\n",
       "      <td>0</td>\n",
       "      <td>0</td>\n",
       "      <td>0</td>\n",
       "      <td>0</td>\n",
       "      <td>0</td>\n",
       "      <td>0</td>\n",
       "      <td>0</td>\n",
       "      <td>0</td>\n",
       "      <td>0</td>\n",
       "      <td>0</td>\n",
       "      <td>0</td>\n",
       "      <td>0</td>\n",
       "      <td>0</td>\n",
       "      <td>0</td>\n",
       "      <td>0</td>\n",
       "      <td>...</td>\n",
       "      <td>0</td>\n",
       "      <td>0</td>\n",
       "      <td>0</td>\n",
       "      <td>0</td>\n",
       "      <td>0</td>\n",
       "      <td>0</td>\n",
       "      <td>0</td>\n",
       "      <td>0</td>\n",
       "      <td>0</td>\n",
       "      <td>0</td>\n",
       "      <td>0</td>\n",
       "      <td>0</td>\n",
       "      <td>0</td>\n",
       "      <td>0</td>\n",
       "      <td>0</td>\n",
       "      <td>0</td>\n",
       "      <td>0</td>\n",
       "      <td>0</td>\n",
       "      <td>0</td>\n",
       "      <td>0</td>\n",
       "      <td>0</td>\n",
       "      <td>0</td>\n",
       "      <td>0</td>\n",
       "      <td>0</td>\n",
       "      <td>0</td>\n",
       "      <td>0</td>\n",
       "      <td>0</td>\n",
       "      <td>0</td>\n",
       "      <td>0</td>\n",
       "      <td>0</td>\n",
       "      <td>0</td>\n",
       "      <td>0</td>\n",
       "      <td>0</td>\n",
       "      <td>0</td>\n",
       "      <td>0</td>\n",
       "      <td>0</td>\n",
       "      <td>0</td>\n",
       "      <td>0</td>\n",
       "      <td>0</td>\n",
       "      <td>0</td>\n",
       "    </tr>\n",
       "    <tr>\n",
       "      <th>4575</th>\n",
       "      <td>0</td>\n",
       "      <td>0</td>\n",
       "      <td>0</td>\n",
       "      <td>0</td>\n",
       "      <td>0</td>\n",
       "      <td>0</td>\n",
       "      <td>0</td>\n",
       "      <td>0</td>\n",
       "      <td>0</td>\n",
       "      <td>0</td>\n",
       "      <td>0</td>\n",
       "      <td>0</td>\n",
       "      <td>0</td>\n",
       "      <td>0</td>\n",
       "      <td>0</td>\n",
       "      <td>0</td>\n",
       "      <td>0</td>\n",
       "      <td>0</td>\n",
       "      <td>0</td>\n",
       "      <td>0</td>\n",
       "      <td>0</td>\n",
       "      <td>0</td>\n",
       "      <td>0</td>\n",
       "      <td>0</td>\n",
       "      <td>0</td>\n",
       "      <td>0</td>\n",
       "      <td>0</td>\n",
       "      <td>0</td>\n",
       "      <td>0</td>\n",
       "      <td>0</td>\n",
       "      <td>0</td>\n",
       "      <td>0</td>\n",
       "      <td>0</td>\n",
       "      <td>0</td>\n",
       "      <td>0</td>\n",
       "      <td>0</td>\n",
       "      <td>0</td>\n",
       "      <td>0</td>\n",
       "      <td>0</td>\n",
       "      <td>0</td>\n",
       "      <td>...</td>\n",
       "      <td>0</td>\n",
       "      <td>0</td>\n",
       "      <td>0</td>\n",
       "      <td>0</td>\n",
       "      <td>0</td>\n",
       "      <td>0</td>\n",
       "      <td>0</td>\n",
       "      <td>0</td>\n",
       "      <td>0</td>\n",
       "      <td>0</td>\n",
       "      <td>0</td>\n",
       "      <td>0</td>\n",
       "      <td>0</td>\n",
       "      <td>0</td>\n",
       "      <td>0</td>\n",
       "      <td>0</td>\n",
       "      <td>0</td>\n",
       "      <td>0</td>\n",
       "      <td>0</td>\n",
       "      <td>0</td>\n",
       "      <td>0</td>\n",
       "      <td>0</td>\n",
       "      <td>0</td>\n",
       "      <td>0</td>\n",
       "      <td>0</td>\n",
       "      <td>0</td>\n",
       "      <td>0</td>\n",
       "      <td>0</td>\n",
       "      <td>0</td>\n",
       "      <td>0</td>\n",
       "      <td>0</td>\n",
       "      <td>0</td>\n",
       "      <td>0</td>\n",
       "      <td>0</td>\n",
       "      <td>0</td>\n",
       "      <td>0</td>\n",
       "      <td>0</td>\n",
       "      <td>0</td>\n",
       "      <td>0</td>\n",
       "      <td>0</td>\n",
       "    </tr>\n",
       "    <tr>\n",
       "      <th>4576</th>\n",
       "      <td>0</td>\n",
       "      <td>0</td>\n",
       "      <td>0</td>\n",
       "      <td>0</td>\n",
       "      <td>0</td>\n",
       "      <td>0</td>\n",
       "      <td>0</td>\n",
       "      <td>0</td>\n",
       "      <td>0</td>\n",
       "      <td>0</td>\n",
       "      <td>0</td>\n",
       "      <td>0</td>\n",
       "      <td>0</td>\n",
       "      <td>0</td>\n",
       "      <td>0</td>\n",
       "      <td>0</td>\n",
       "      <td>0</td>\n",
       "      <td>0</td>\n",
       "      <td>0</td>\n",
       "      <td>0</td>\n",
       "      <td>0</td>\n",
       "      <td>0</td>\n",
       "      <td>0</td>\n",
       "      <td>0</td>\n",
       "      <td>0</td>\n",
       "      <td>0</td>\n",
       "      <td>0</td>\n",
       "      <td>0</td>\n",
       "      <td>0</td>\n",
       "      <td>0</td>\n",
       "      <td>0</td>\n",
       "      <td>0</td>\n",
       "      <td>0</td>\n",
       "      <td>0</td>\n",
       "      <td>0</td>\n",
       "      <td>0</td>\n",
       "      <td>0</td>\n",
       "      <td>0</td>\n",
       "      <td>0</td>\n",
       "      <td>0</td>\n",
       "      <td>...</td>\n",
       "      <td>0</td>\n",
       "      <td>0</td>\n",
       "      <td>0</td>\n",
       "      <td>0</td>\n",
       "      <td>0</td>\n",
       "      <td>0</td>\n",
       "      <td>0</td>\n",
       "      <td>0</td>\n",
       "      <td>0</td>\n",
       "      <td>0</td>\n",
       "      <td>0</td>\n",
       "      <td>0</td>\n",
       "      <td>0</td>\n",
       "      <td>0</td>\n",
       "      <td>0</td>\n",
       "      <td>0</td>\n",
       "      <td>0</td>\n",
       "      <td>0</td>\n",
       "      <td>0</td>\n",
       "      <td>0</td>\n",
       "      <td>0</td>\n",
       "      <td>0</td>\n",
       "      <td>0</td>\n",
       "      <td>0</td>\n",
       "      <td>0</td>\n",
       "      <td>0</td>\n",
       "      <td>0</td>\n",
       "      <td>0</td>\n",
       "      <td>0</td>\n",
       "      <td>0</td>\n",
       "      <td>0</td>\n",
       "      <td>0</td>\n",
       "      <td>0</td>\n",
       "      <td>0</td>\n",
       "      <td>0</td>\n",
       "      <td>0</td>\n",
       "      <td>0</td>\n",
       "      <td>0</td>\n",
       "      <td>0</td>\n",
       "      <td>0</td>\n",
       "    </tr>\n",
       "  </tbody>\n",
       "</table>\n",
       "<p>4577 rows × 44792 columns</p>\n",
       "</div>"
      ],
      "text/plain": [
       "      aaaa  aaah  aaai  aaaimit  ...  égligent  élangea  érale  íålittin\n",
       "0        0     0     0        0  ...         0        0      0         0\n",
       "1        0     0     0        0  ...         0        0      0         0\n",
       "2        0     0     0        0  ...         0        0      0         0\n",
       "3        0     0     0        0  ...         0        0      0         0\n",
       "4        0     0     0        0  ...         0        0      0         0\n",
       "...    ...   ...   ...      ...  ...       ...      ...    ...       ...\n",
       "4572     0     0     0        0  ...         0        0      0         0\n",
       "4573     0     0     0        0  ...         0        0      0         0\n",
       "4574     0     0     0        0  ...         0        0      0         0\n",
       "4575     0     0     0        0  ...         0        0      0         0\n",
       "4576     0     0     0        0  ...         0        0      0         0\n",
       "\n",
       "[4577 rows x 44792 columns]"
      ]
     },
     "execution_count": 49,
     "metadata": {
      "tags": []
     },
     "output_type": "execute_result"
    }
   ],
   "source": [
    "x_train2"
   ]
  },
  {
   "cell_type": "code",
   "execution_count": 50,
   "metadata": {
    "colab": {
     "base_uri": "https://localhost:8080/",
     "height": 51
    },
    "colab_type": "code",
    "executionInfo": {
     "elapsed": 671,
     "status": "ok",
     "timestamp": 1580550275203,
     "user": {
      "displayName": "EZEANI GODWIN",
      "photoUrl": "",
      "userId": "04749033323982820171"
     },
     "user_tz": -60
    },
    "id": "OqAi85Q3IZfT",
    "outputId": "9d03b4a9-0076-436c-ced1-38f972567d33"
   },
   "outputs": [
    {
     "name": "stdout",
     "output_type": "stream",
     "text": [
      "(4577, 44792)\n",
      "(3048, 36206)\n"
     ]
    }
   ],
   "source": [
    "print(x_train2.shape)\n",
    "print(x_test2.shape)\n"
   ]
  },
  {
   "cell_type": "code",
   "execution_count": 0,
   "metadata": {
    "colab": {},
    "colab_type": "code",
    "id": "o4DmqMUbMi6a"
   },
   "outputs": [],
   "source": [
    "from pyspark.mllib.util import MLUtils\n",
    "from pyspark.mllib.regression import LabeledPoint\n",
    "from pyspark import SparkContext\n",
    "from pyspark.sql import SparkSession\n",
    "import pyspark.sql.functions as f"
   ]
  },
  {
   "cell_type": "markdown",
   "metadata": {
    "colab_type": "text",
    "id": "LN7Ksg2NuhpC"
   },
   "source": []
  },
  {
   "cell_type": "code",
   "execution_count": 0,
   "metadata": {
    "colab": {},
    "colab_type": "code",
    "id": "PsyRyaxJMjAt"
   },
   "outputs": [],
   "source": [
    "sc = SparkContext()"
   ]
  },
  {
   "cell_type": "code",
   "execution_count": 0,
   "metadata": {
    "colab": {},
    "colab_type": "code",
    "id": "TnPEGsloMBgW"
   },
   "outputs": [],
   "source": [
    "spark = SparkSession(sc)"
   ]
  },
  {
   "cell_type": "code",
   "execution_count": 0,
   "metadata": {
    "colab": {},
    "colab_type": "code",
    "id": "EWGQqHL0smEf"
   },
   "outputs": [],
   "source": [
    "x_train2.insert(0,\"tar\",y_train2)\n"
   ]
  },
  {
   "cell_type": "code",
   "execution_count": 0,
   "metadata": {
    "colab": {},
    "colab_type": "code",
    "id": "57QRTQfvMoek"
   },
   "outputs": [],
   "source": [
    "data = spark.createDataFrame(x_train2)\n",
    "data2 = spark.createDataFrame(x_test2)\n",
    "data = data.rdd"
   ]
  },
  {
   "cell_type": "code",
   "execution_count": 0,
   "metadata": {
    "colab": {},
    "colab_type": "code",
    "id": "ewU6cK8dMomR"
   },
   "outputs": [],
   "source": [
    "new_data = data.map(lambda line: LabeledPoint(line[0],[line[1:]]))\n",
    "new_data2 = data2.map(lambda line: LabeledPoint(line[0],[line[1:]]))"
   ]
  },
  {
   "cell_type": "code",
   "execution_count": 40,
   "metadata": {
    "colab": {
     "base_uri": "https://localhost:8080/",
     "height": 34
    },
    "colab_type": "code",
    "executionInfo": {
     "elapsed": 654,
     "status": "ok",
     "timestamp": 1580568946746,
     "user": {
      "displayName": "EZEANI GODWIN",
      "photoUrl": "",
      "userId": "04749033323982820171"
     },
     "user_tz": -60
    },
    "id": "w8h9uLSPMouz",
    "outputId": "624a57f2-68b7-45db-8d31-8ad3b9971d76"
   },
   "outputs": [
    {
     "data": {
      "text/plain": [
       "PythonRDD[10] at RDD at PythonRDD.scala:53"
      ]
     },
     "execution_count": 40,
     "metadata": {
      "tags": []
     },
     "output_type": "execute_result"
    }
   ],
   "source": [
    "new_data"
   ]
  },
  {
   "cell_type": "code",
   "execution_count": 0,
   "metadata": {
    "colab": {},
    "colab_type": "code",
    "id": "uzgVb5R3t2ch"
   },
   "outputs": [],
   "source": [
    "new_data.write.format(\"libsvm\").save(\"x_train_libsvm\")\n",
    "new_data2.write.format(\"libsvm\").save(\"x_test_libsvm\")"
   ]
  },
  {
   "cell_type": "code",
   "execution_count": 0,
   "metadata": {
    "colab": {},
    "colab_type": "code",
    "id": "d5DeD5UFrHt1"
   },
   "outputs": [],
   "source": [
    "res = []\n",
    "kn = []\n",
    "start_time = time.time()\n",
    "for k in range(2,10):\n",
    "  print(k)\n",
    "  out = get_WSS(k, x_train2.values)\n",
    "  res.append(out)\n",
    "  kn.append(k)\n",
    "plt.plot(res,kn)\n",
    "print(\"--- %s seconds ---\" % (time.time() - start_time))"
   ]
  },
  {
   "cell_type": "code",
   "execution_count": 57,
   "metadata": {
    "colab": {
     "base_uri": "https://localhost:8080/",
     "height": 204
    },
    "colab_type": "code",
    "executionInfo": {
     "elapsed": 5522687,
     "status": "ok",
     "timestamp": 1580556412383,
     "user": {
      "displayName": "EZEANI GODWIN",
      "photoUrl": "",
      "userId": "04749033323982820171"
     },
     "user_tz": -60
    },
    "id": "5wDJKktmrWU9",
    "outputId": "218a94d8-9d53-42f7-926d-32a6197344e3"
   },
   "outputs": [
    {
     "name": "stdout",
     "output_type": "stream",
     "text": [
      "not converged, Error =  20.09796454902125\n",
      "not converged, Error =  30.39635096078887\n",
      "not converged, Error =  16.146170229070684\n",
      "not converged, Error =  42.95489255294964\n",
      "not converged, Error =  0.1167784487892843\n",
      "not converged, Error =  0.02343276391464147\n",
      "not converged, Error =  0.0205357957434063\n",
      "not converged, Error =  0.011451602577385409\n",
      "not converged, Error =  0.013488963547100243\n",
      "converged\n",
      "--- 5522.317501068115 seconds ---\n"
     ]
    }
   ],
   "source": [
    "start_time = time.time()\n",
    "centroids_dict , clust = K_means(7,x_train2.values[:2000],100)\n",
    "print(\"--- %s seconds ---\" % (time.time() - start_time))"
   ]
  },
  {
   "cell_type": "code",
   "execution_count": 58,
   "metadata": {
    "colab": {
     "base_uri": "https://localhost:8080/",
     "height": 34
    },
    "colab_type": "code",
    "executionInfo": {
     "elapsed": 562964,
     "status": "ok",
     "timestamp": 1580558987341,
     "user": {
      "displayName": "EZEANI GODWIN",
      "photoUrl": "",
      "userId": "04749033323982820171"
     },
     "user_tz": -60
    },
    "id": "EijujecqCB89",
    "outputId": "d169d389-5c56-47ce-8558-3d95a8af08e6"
   },
   "outputs": [
    {
     "data": {
      "text/plain": [
       "array([2, 2, 2, ..., 2, 0, 2])"
      ]
     },
     "execution_count": 58,
     "metadata": {
      "tags": []
     },
     "output_type": "execute_result"
    }
   ],
   "source": [
    "pred = predict(x_test2,clust)\n",
    "pred = np.asarray(pred)\n",
    "pred"
   ]
  },
  {
   "cell_type": "code",
   "execution_count": 0,
   "metadata": {
    "colab": {},
    "colab_type": "code",
    "id": "ZhvJD2SfB1Vj"
   },
   "outputs": [],
   "source": [
    "def Accuracy(test,pred):\n",
    "    count = 0\n",
    "    for x,j in zip(test,pred):\n",
    "        if x == j:\n",
    "            count += 1\n",
    "    accuracy = (count/float(len(test)))*100\n",
    "    return accuracy"
   ]
  },
  {
   "cell_type": "code",
   "execution_count": 61,
   "metadata": {
    "colab": {
     "base_uri": "https://localhost:8080/",
     "height": 34
    },
    "colab_type": "code",
    "executionInfo": {
     "elapsed": 500,
     "status": "ok",
     "timestamp": 1580559540453,
     "user": {
      "displayName": "EZEANI GODWIN",
      "photoUrl": "",
      "userId": "04749033323982820171"
     },
     "user_tz": -60
    },
    "id": "qs1B27SMB1gu",
    "outputId": "b73a7ac2-3059-451d-c26d-2fafa4eecbf4"
   },
   "outputs": [
    {
     "name": "stdout",
     "output_type": "stream",
     "text": [
      "accuracy from my model 85.748 percent\n"
     ]
    }
   ],
   "source": [
    "testtt = train_20_data[\"target\"].values\n",
    "accu = Accuracy(y_test2, pred)\n",
    "print(\"accuracy from my model\", accu, \"percent\")"
   ]
  },
  {
   "cell_type": "markdown",
   "metadata": {
    "colab": {},
    "colab_type": "code",
    "id": "W26kRV9rB1ln"
   },
   "source": [
    "# comparism with off the shelf libraries"
   ]
  },
  {
   "cell_type": "code",
   "execution_count": 0,
   "metadata": {
    "colab": {},
    "colab_type": "code",
    "id": "wOCwOWCK4mbM"
   },
   "outputs": [],
   "source": [
    "from sklearn.cluster import KMeans"
   ]
  },
  {
   "cell_type": "code",
   "execution_count": 0,
   "metadata": {
    "colab": {},
    "colab_type": "code",
    "id": "8O9Mt6U54mft"
   },
   "outputs": [],
   "source": [
    "WCSS = []\n",
    "start_time = time.time()\n",
    "for i in range(1, 10):\n",
    "    \n",
    "    kmeans = KMeans(n_clusters = i, random_state = 0,init = 'k-means++', max_iter = 300, n_init = 10)\n",
    "    kmeans.fit(x_train2.values)\n",
    "    #To calculate the distance \n",
    "    WCSS.append(kmeans.inertia_)\n",
    "    \n",
    "plt.plot(range(1,25),WCSS )\n",
    "plt.title('The Elbow Method')\n",
    "plt.xlabel('Number of Clusters')\n",
    "plt.ylabel('WCSS')\n",
    "plt.show()\n",
    "print(\"--- %s seconds ---\" % (time.time() - start_time))"
   ]
  },
  {
   "cell_type": "code",
   "execution_count": 0,
   "metadata": {
    "colab": {
     "base_uri": "https://localhost:8080/",
     "height": 312
    },
    "colab_type": "code",
    "executionInfo": {
     "elapsed": 1509,
     "status": "ok",
     "timestamp": 1580504686490,
     "user": {
      "displayName": "EZEANI GODWIN",
      "photoUrl": "",
      "userId": "04749033323982820171"
     },
     "user_tz": -60
    },
    "id": "5hteFB0S4mrF",
    "outputId": "880b9e1b-1283-4ff7-f9f3-484893831560"
   },
   "outputs": [
    {
     "data": {
      "image/png": "[encoded data removed]",
      "text/plain": [
       "<Figure size 432x288 with 1 Axes>"
      ]
     },
     "metadata": {
      "tags": []
     },
     "output_type": "display_data"
    },
    {
     "name": "stdout",
     "output_type": "stream",
     "text": [
      "--- 692.9214441776276 seconds ---\n"
     ]
    }
   ],
   "source": [
    "plt.plot(range(1,10),WCSS )\n",
    "plt.title('The Elbow Method')\n",
    "plt.xlabel('Number of Clusters')\n",
    "plt.ylabel('WCSS')\n",
    "plt.show()\n",
    "print(\"--- %s seconds ---\" % (time.time() - start_time))"
   ]
  },
  {
   "cell_type": "code",
   "execution_count": 0,
   "metadata": {
    "colab": {},
    "colab_type": "code",
    "id": "kfSkYlnWVck-"
   },
   "outputs": [],
   "source": []
  },
  {
   "cell_type": "code",
   "execution_count": 51,
   "metadata": {
    "colab": {
     "base_uri": "https://localhost:8080/",
     "height": 34
    },
    "colab_type": "code",
    "executionInfo": {
     "elapsed": 76873,
     "status": "ok",
     "timestamp": 1580550418195,
     "user": {
      "displayName": "EZEANI GODWIN",
      "photoUrl": "",
      "userId": "04749033323982820171"
     },
     "user_tz": -60
    },
    "id": "0A2-LOXeVa4v",
    "outputId": "f9a28fa5-f32a-404f-ed96-08ae28dabb93"
   },
   "outputs": [
    {
     "name": "stdout",
     "output_type": "stream",
     "text": [
      "--- 76.24086427688599 seconds ---\n"
     ]
    }
   ],
   "source": [
    "kmeans = KMeans(n_clusters = 7, random_state = 0,init = 'k-means++', max_iter = 300, n_init = 10)\n",
    "\n",
    "start_time = time.time()\n",
    "kmeans.fit(x_train2.values)\n",
    "print(\"--- %s seconds ---\" % (time.time() - start_time))"
   ]
  },
  {
   "cell_type": "code",
   "execution_count": 0,
   "metadata": {
    "colab": {},
    "colab_type": "code",
    "id": "tLg8eVosHIkP"
   },
   "outputs": [],
   "source": [
    "y_test2 = test_20_data[\"target\"].values"
   ]
  },
  {
   "cell_type": "code",
   "execution_count": 55,
   "metadata": {
    "colab": {
     "base_uri": "https://localhost:8080/",
     "height": 34
    },
    "colab_type": "code",
    "executionInfo": {
     "elapsed": 1995,
     "status": "ok",
     "timestamp": 1580550554455,
     "user": {
      "displayName": "EZEANI GODWIN",
      "photoUrl": "",
      "userId": "04749033323982820171"
     },
     "user_tz": -60
    },
    "id": "9QAwOq7uEawo",
    "outputId": "af8c4d07-e747-4ff7-dc29-00212e9f26c2"
   },
   "outputs": [
    {
     "name": "stdout",
     "output_type": "stream",
     "text": [
      "Accuracy of sklearn model:  89.0986 percent\n"
     ]
    }
   ],
   "source": [
    "pred2 = kmeans.predict(x_test2.values)\n",
    "accuu = Accuracy(y_test2, pred2)\n",
    "print(\"Accuracy of sklearn model: \", accuu , \"percent\"  )"
   ]
  },
  {
   "cell_type": "code",
   "execution_count": 0,
   "metadata": {
    "colab": {},
    "colab_type": "code",
    "id": "mJ_uCLUvFfi6"
   },
   "outputs": [],
   "source": []
  }
 ],
 "metadata": {
  "colab": {
   "authorship_tag": "ABX9TyP6ZulwXdrOu1ilLtid9vqK",
   "collapsed_sections": [],
   "machine_shape": "hm",
   "name": "MLlab11.ipynb",
   "provenance": []
  },
  "kernelspec": {
   "display_name": "Python 3",
   "language": "python",
   "name": "python3"
  },
  "language_info": {
   "codemirror_mode": {
    "name": "ipython",
    "version": 3
   },
   "file_extension": ".py",
   "mimetype": "text/x-python",
   "name": "python",
   "nbconvert_exporter": "python",
   "pygments_lexer": "ipython3",
   "version": "3.6.8"
  }
 },
 "nbformat": 4,
 "nbformat_minor": 1
}
